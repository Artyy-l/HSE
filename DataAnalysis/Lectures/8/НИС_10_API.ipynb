{
 "cells": [
  {
   "cell_type": "markdown",
   "metadata": {},
   "source": [
    "# API и XML"
   ]
  },
  {
   "cell_type": "markdown",
   "metadata": {},
   "source": [
    "Разные сайты предлагают информацию, которую может легко обрабатывать не только человек, но и другая программа. Это называется API — application program interface. Обычный интерфейс — это способ взаимодействия человека с программой, а API — одной программы с другой. Например, вашего скрипта на Python с удалённым веб-сервером.\n",
    "\n",
    "Для хранения веб-страниц, которые читают люди, используется язык HTML. Для хранения произвольных структурированных данных, которыми обмениваются между собой программы, используются другие языки — в частности, язык XML, похожий на HTML. Вернее было бы сказать, что XML это метаязык, то есть способ описания языков. В отличие от HTML, набор тегов в XML-документе может быть произвольным (и определяется разработчиком конкретного диалекта XML). \n",
    "\n",
    "Для обработки XML-файлов можно использовать пакет Beautiful Soup. Единственное различие — нужно указать дополнительный параметр feautres=\"xml\" при вызове функции BeautifulSoup — чтобы он не искал в документе HTML-теги."
   ]
  },
  {
   "cell_type": "code",
   "execution_count": 1,
   "metadata": {},
   "outputs": [],
   "source": [
    "from bs4 import BeautifulSoup"
   ]
  },
  {
   "cell_type": "code",
   "execution_count": 2,
   "metadata": {},
   "outputs": [],
   "source": [
    "group = \"\"\"<group>\n",
    "<number>134</number>\n",
    "<student>\n",
    "<firstname>Виталий</firstname>\n",
    "<lastname>Иванов</lastname>\n",
    "</student>\n",
    "<student>\n",
    "<firstname>Мария</firstname>\n",
    "<lastname>Петрова</lastname>\n",
    "</student>\n",
    "</group>\"\"\""
   ]
  },
  {
   "cell_type": "code",
   "execution_count": 3,
   "metadata": {},
   "outputs": [
    {
     "name": "stdout",
     "output_type": "stream",
     "text": [
      "<?xml version=\"1.0\" encoding=\"utf-8\"?>\n",
      "<group>\n",
      " <number>\n",
      "  134\n",
      " </number>\n",
      " <student>\n",
      "  <firstname>\n",
      "   Виталий\n",
      "  </firstname>\n",
      "  <lastname>\n",
      "   Иванов\n",
      "  </lastname>\n",
      " </student>\n",
      " <student>\n",
      "  <firstname>\n",
      "   Мария\n",
      "  </firstname>\n",
      "  <lastname>\n",
      "   Петрова\n",
      "  </lastname>\n",
      " </student>\n",
      "</group>\n",
      "\n"
     ]
    }
   ],
   "source": [
    "obj = BeautifulSoup(group, features=\"xml\")\n",
    "print(obj.prettify())"
   ]
  },
  {
   "cell_type": "code",
   "execution_count": 4,
   "metadata": {},
   "outputs": [
    {
     "data": {
      "text/plain": [
       "'134'"
      ]
     },
     "execution_count": 4,
     "metadata": {},
     "output_type": "execute_result"
    }
   ],
   "source": [
    "obj.group.number.string #найти номер группы"
   ]
  },
  {
   "cell_type": "code",
   "execution_count": 5,
   "metadata": {},
   "outputs": [
    {
     "name": "stdout",
     "output_type": "stream",
     "text": [
      "Иванов Виталий\n",
      "Петрова Мария\n"
     ]
    }
   ],
   "source": [
    "#перечислить всех студентов\n",
    "for student in obj.group.findAll('student'):\n",
    "    print(student.lastname.string, student.firstname.string)"
   ]
  },
  {
   "cell_type": "markdown",
   "metadata": {},
   "source": [
    "При работе с API мы обращаемся к специальной веб-странице по специальному адресу и передаём запрос."
   ]
  },
  {
   "cell_type": "markdown",
   "metadata": {},
   "source": [
    "## Пример: список статей из категории в Википедии"
   ]
  },
  {
   "cell_type": "markdown",
   "metadata": {},
   "source": [
    "Допустим, нам потребовалось получить список всех статей из некоторой категории в Википедии. Мы могли бы открыть эту категорию в браузере и дальше использовать обычный веб-скреппинг. Однако разработчики Википедии сделали удобное API https://www.mediawiki.org/wiki/API:Tutorial. Чтобы научиться с ним работать, придётся познакомиться с документацией (так будет с любым API). \n",
    "Пример: https://www.mediawiki.org/wiki/API:Categorymembers\n",
    "\n",
    "\n",
    "Взаимодействие с сервером при помощи API происходит с помощью отправки специальным образом сформированных запросов и получения ответа в одном из машинночитаемых форматов. Сейчас нас будет интересовать формат XML. \n",
    "\n",
    "Например, можно отправить такой запрос:\n",
    "\n",
    "https://en.wikipedia.org/w/api.php?action=query&list=categorymembers&cmtitle=Category:Physics&cmsort=timestamp&cmdir=desc&format=xmlfm\n",
    "\n",
    "Строка https://en.wikipedia.org/w/api.php (до знака вопроса) — это точка входа в API. Всё, что идёт после знака вопроса — это, собственно, запрос. Он представляет собой что-то вроде словаря и состоит из пар «ключ=значение», разделяемых амперсандом &. Некоторые символы приходится кодировать специальным образом.\n",
    "\n",
    "Например, в адресе выше сказано, что мы хотим сделать запрос (action=query), перечислить элементы категории list=categorymembers, в качестве категории, которая нас интересует, указана Category:Physics (cmtitle=Category:Physics) и указаны некоторые другие параметры. \n"
   ]
  },
  {
   "cell_type": "raw",
   "metadata": {},
   "source": [
    "<?xml version=\"1.0\"?>\n",
    "<api batchcomplete=\"\">\n",
    "  <continue cmcontinue=\"20231014175302|74985603\" continue=\"-||\" />\n",
    "  <query>\n",
    "    <categorymembers>\n",
    "      <cm pageid=\"6019\" ns=\"0\" title=\"Computational chemistry\" />\n",
    "      <cm pageid=\"75821836\" ns=\"0\" title=\"Isoelectric (electric potential)\" />\n",
    "      <cm pageid=\"172586\" ns=\"0\" title=\"Laser cooling\" />\n",
    "      <cm pageid=\"75702882\" ns=\"1\" title=\"Talk:Dynamic toroidal dipole\" />\n",
    "      <cm pageid=\"75395346\" ns=\"0\" title=\"Dynamic toroidal dipole\" />\n",
    "      <cm pageid=\"75695397\" ns=\"1\" title=\"Talk:Paul Harry Roberts\" />\n",
    "      <cm pageid=\"75563080\" ns=\"0\" title=\"Paul Harry Roberts\" />\n",
    "      <cm pageid=\"75463818\" ns=\"0\" title=\"Quasi-isodynamic stellarators\" />\n",
    "      <cm pageid=\"75542417\" ns=\"0\" title=\"Olsen cycle\" />\n",
    "      <cm pageid=\"75105818\" ns=\"14\" title=\"Category:Eponyms in physics\" />\n",
    "    </categorymembers>\n",
    "  </query>\n",
    "</api>"
   ]
  },
  {
   "cell_type": "raw",
   "metadata": {},
   "source": [
    "Нас интересуют теги <cm>, находящиеся внутри тега <categorymembers>. Сделаем соответствующий запрос, используя  модуль requests."
   ]
  },
  {
   "cell_type": "code",
   "execution_count": 6,
   "metadata": {},
   "outputs": [],
   "source": [
    "import requests "
   ]
  },
  {
   "cell_type": "code",
   "execution_count": 7,
   "metadata": {},
   "outputs": [],
   "source": [
    "url = \"https://en.wikipedia.org/w/api.php\"\n",
    "myparams = {\n",
    "    'action':'query',\n",
    "    'list':'categorymembers',\n",
    "    'cmtitle': 'Category:Physics',\n",
    "    'format': 'xml'\n",
    "}\n",
    "# список параметров передаем в виде обычного словаря\n",
    "\n",
    "g = requests.get(url, params=myparams)"
   ]
  },
  {
   "cell_type": "code",
   "execution_count": 8,
   "metadata": {},
   "outputs": [
    {
     "data": {
      "text/plain": [
       "True"
      ]
     },
     "execution_count": 8,
     "metadata": {},
     "output_type": "execute_result"
    }
   ],
   "source": [
    "g.ok"
   ]
  },
  {
   "cell_type": "code",
   "execution_count": 9,
   "metadata": {},
   "outputs": [],
   "source": [
    "mydata = BeautifulSoup(g.text, features='xml')"
   ]
  },
  {
   "cell_type": "code",
   "execution_count": 10,
   "metadata": {},
   "outputs": [
    {
     "name": "stdout",
     "output_type": "stream",
     "text": [
      "<?xml version=\"1.0\" encoding=\"utf-8\"?>\n",
      "<api batchcomplete=\"\">\n",
      " <continue cmcontinue=\"page|44522e40322a503a4644010e01dc0d|1996857\" continue=\"-||\"/>\n",
      " <query>\n",
      "  <categorymembers>\n",
      "   <cm ns=\"0\" pageid=\"22939\" title=\"Physics\"/>\n",
      "   <cm ns=\"0\" pageid=\"844186\" title=\"Modern physics\"/>\n",
      "   <cm ns=\"100\" pageid=\"1653925\" title=\"Portal:Physics\"/>\n",
      "   <cm ns=\"0\" pageid=\"78053369\" title=\"Bijel\"/>\n",
      "   <cm ns=\"0\" pageid=\"74985603\" title=\"Edge states\"/>\n",
      "   <cm ns=\"0\" pageid=\"78147827\" title=\"Electrostatic solitary wave\"/>\n",
      "   <cm ns=\"0\" pageid=\"78554064\" title=\"History of the LED\"/>\n",
      "   <cm ns=\"0\" pageid=\"78751748\" title=\"Missile lofting\"/>\n",
      "   <cm ns=\"0\" pageid=\"168907\" title=\"Naïve physics\"/>\n",
      "   <cm ns=\"0\" pageid=\"78245824\" title=\"Nottingham effect\"/>\n",
      "  </categorymembers>\n",
      " </query>\n",
      "</api>\n",
      "\n"
     ]
    }
   ],
   "source": [
    "print(mydata.prettify())"
   ]
  },
  {
   "cell_type": "code",
   "execution_count": 11,
   "metadata": {},
   "outputs": [
    {
     "name": "stdout",
     "output_type": "stream",
     "text": [
      "Physics\n",
      "Modern physics\n",
      "Portal:Physics\n",
      "Bijel\n",
      "Edge states\n",
      "Electrostatic solitary wave\n",
      "History of the LED\n",
      "Missile lofting\n",
      "Naïve physics\n",
      "Nottingham effect\n"
     ]
    }
   ],
   "source": [
    "#находим все вхождения тега <cm> и выведем их атрибут title:\n",
    "for cm in mydata(\"cm\"):\n",
    "    print(cm['title'])"
   ]
  },
  {
   "cell_type": "markdown",
   "metadata": {},
   "source": [
    "По умолчанию сервер вернул нам список из 10 элементов. Если мы хотим больше, нужно воспользоваться элементом continue — это своего рода гиперссылка на следующие 10 элементов. Или можно задать значение параметра cmlimit (до 500 записей)."
   ]
  },
  {
   "cell_type": "code",
   "execution_count": 12,
   "metadata": {},
   "outputs": [
    {
     "data": {
      "text/plain": [
       "'page|44522e40322a503a4644010e01dc0d|1996857'"
      ]
     },
     "execution_count": 12,
     "metadata": {},
     "output_type": "execute_result"
    }
   ],
   "source": [
    "mydata.find(\"continue\")['cmcontinue']"
   ]
  },
  {
   "cell_type": "code",
   "execution_count": 13,
   "metadata": {},
   "outputs": [],
   "source": [
    "myparams['cmcontinue'] = mydata.api(\"continue\")[0]['cmcontinue']"
   ]
  },
  {
   "cell_type": "code",
   "execution_count": 14,
   "metadata": {},
   "outputs": [
    {
     "name": "stdout",
     "output_type": "stream",
     "text": [
      "Nucleation\n",
      "Perfect fluid\n",
      "Plasmaron\n",
      "Quasi-isodynamic stellarator\n",
      "Shockwave cosmology\n",
      "Surface stress\n",
      "Thermal energy\n",
      "Toroidal solenoid\n",
      "Wohlfarth Lectureship\n",
      "Category:Physics by country\n"
     ]
    }
   ],
   "source": [
    "g = requests.get(url, params=myparams)\n",
    "mydata = BeautifulSoup(g.text, features='xml')\n",
    "for cm in mydata(\"cm\"):\n",
    "    print(cm['title'])\n",
    "\n"
   ]
  },
  {
   "cell_type": "markdown",
   "metadata": {},
   "source": [
    "Аналогичным образом реализована работа с разнообразными другими API, имеющимися на разных сайтах. Где-то API является полностью открытым (как в Википедии), где-то вам потребуется зарегистрироваться и получить application id и какой-нибудь ключ для доступа к API, где-то попросят даже заплатить (например, автоматический поиск в Google). Всякий раз при использовании API вам придётся изучить его документацию, но это чаще всего проще, чем обрабатывать HTML-код. "
   ]
  },
  {
   "cell_type": "markdown",
   "metadata": {},
   "source": [
    "# Работа с API с помощью JSON¶"
   ]
  },
  {
   "cell_type": "markdown",
   "metadata": {},
   "source": [
    "В примере выше для получения информации от API использовался формат XML. Помимо XML существует другой распространённый формат хранения и передачи структурированной информации, называющийся JSON. JSON расшифровывается как JavaScript Object Notation и изначально возник как подмножество языка JavaScript, используемое для описания объектов, но впоследствии стал использоваться и в других языках программирования, включая Python. Различные API могут поддерживать либо XML, либо JSON, либо и то, и другое, так что полезно научиться работать с обоими типами данных. Рассмотрим пример чтения данных из Википедии как в прошлый раз, но будем использовать формат JSON, API MediaWiki это позволяет."
   ]
  },
  {
   "cell_type": "code",
   "execution_count": 15,
   "metadata": {},
   "outputs": [
    {
     "data": {
      "text/plain": [
       "True"
      ]
     },
     "execution_count": 15,
     "metadata": {},
     "output_type": "execute_result"
    }
   ],
   "source": [
    "url = \"https://en.wikipedia.org/w/api.php\"\n",
    "myparams = {\n",
    "    'action':'query',\n",
    "    'list':'categorymembers',\n",
    "    'cmtitle': 'Category:Physics',\n",
    "    'format': 'json' #меняется только формат\n",
    "}\n",
    "\n",
    "g = requests.get(url, params=myparams)\n",
    "g.ok"
   ]
  },
  {
   "cell_type": "code",
   "execution_count": 16,
   "metadata": {},
   "outputs": [
    {
     "data": {
      "text/plain": [
       "'{\"batchcomplete\":\"\",\"continue\":{\"cmcontinue\":\"page|44522e40322a503a4644010e01dc0d|1996857\",\"continue\":\"-||\"},\"query\":{\"categorymembers\":[{\"pageid\":22939,\"ns\":0,\"title\":\"Physics\"},{\"pageid\":844186,\"ns\":0,\"title\":\"Modern physics\"},{\"pageid\":1653925,\"ns\":100,\"title\":\"Portal:Physics\"},{\"pageid\":78053369,\"ns\":0,\"title\":\"Bijel\"},{\"pageid\":74985603,\"ns\":0,\"title\":\"Edge states\"},{\"pageid\":78147827,\"ns\":0,\"title\":\"Electrostatic solitary wave\"},{\"pageid\":78554064,\"ns\":0,\"title\":\"History of the LED\"},{\"pageid\":78751748,\"ns\":0,\"title\":\"Missile lofting\"},{\"pageid\":168907,\"ns\":0,\"title\":\"Na\\\\u00efve physics\"},{\"pageid\":78245824,\"ns\":0,\"title\":\"Nottingham effect\"}]}}'"
      ]
     },
     "execution_count": 16,
     "metadata": {},
     "output_type": "execute_result"
    }
   ],
   "source": [
    "g.text"
   ]
  },
  {
   "cell_type": "markdown",
   "metadata": {},
   "source": [
    "Полученный результат похож на описание объекта в Python и смысл квадратных и фигурных скобок такой же. Правда, есть и отличия: например, в Python одинарные и двойные кавычки ничем не отличаются, а в JSON можно использовать только двойные. Мы видим, что полученный нами JSON представляет собой словарь, значения которого — строки или числа, а также списки или словари, значения которых в свою очередь также могут быть строками, числами, списками, словарями и т.д. То есть получается такая довольно сложная структура данных.\n",
    "\n",
    "В данный момент тот факт, что перед нами сложная структура данных, видим только мы — с точки зрения Python, r.text это просто строка. Однако в модуле requests есть метод, позволяющий сразу выдать питоновский объект (словарь или список), если результат запроса возвращён в формате JSON. Так что нам не придётся использовать никакие дополнительные библиотеки."
   ]
  },
  {
   "cell_type": "code",
   "execution_count": 17,
   "metadata": {},
   "outputs": [
    {
     "data": {
      "text/plain": [
       "{'batchcomplete': '',\n",
       " 'continue': {'cmcontinue': 'page|44522e40322a503a4644010e01dc0d|1996857',\n",
       "  'continue': '-||'},\n",
       " 'query': {'categorymembers': [{'pageid': 22939, 'ns': 0, 'title': 'Physics'},\n",
       "   {'pageid': 844186, 'ns': 0, 'title': 'Modern physics'},\n",
       "   {'pageid': 1653925, 'ns': 100, 'title': 'Portal:Physics'},\n",
       "   {'pageid': 78053369, 'ns': 0, 'title': 'Bijel'},\n",
       "   {'pageid': 74985603, 'ns': 0, 'title': 'Edge states'},\n",
       "   {'pageid': 78147827, 'ns': 0, 'title': 'Electrostatic solitary wave'},\n",
       "   {'pageid': 78554064, 'ns': 0, 'title': 'History of the LED'},\n",
       "   {'pageid': 78751748, 'ns': 0, 'title': 'Missile lofting'},\n",
       "   {'pageid': 168907, 'ns': 0, 'title': 'Naïve physics'},\n",
       "   {'pageid': 78245824, 'ns': 0, 'title': 'Nottingham effect'}]}}"
      ]
     },
     "execution_count": 17,
     "metadata": {},
     "output_type": "execute_result"
    }
   ],
   "source": [
    "q = g.json()\n",
    "q"
   ]
  },
  {
   "cell_type": "code",
   "execution_count": 18,
   "metadata": {},
   "outputs": [
    {
     "data": {
      "text/plain": [
       "dict"
      ]
     },
     "execution_count": 18,
     "metadata": {},
     "output_type": "execute_result"
    }
   ],
   "source": [
    "type(q)"
   ]
  },
  {
   "cell_type": "markdown",
   "metadata": {},
   "source": [
    "Видим, что это словарь. Содержательная информация хранится по ключу 'query'. А уже внутри есть ключ 'categorymembers', значением которого является список всех категорий. Каждая категория отображается в виде словаря, записями которого являются разные параметры категории (например, 'title' соответствует названию, а pageid — внутреннему идентификатору в системе)."
   ]
  },
  {
   "cell_type": "code",
   "execution_count": 19,
   "metadata": {},
   "outputs": [
    {
     "data": {
      "text/plain": [
       "[{'pageid': 22939, 'ns': 0, 'title': 'Physics'},\n",
       " {'pageid': 844186, 'ns': 0, 'title': 'Modern physics'},\n",
       " {'pageid': 1653925, 'ns': 100, 'title': 'Portal:Physics'},\n",
       " {'pageid': 78053369, 'ns': 0, 'title': 'Bijel'},\n",
       " {'pageid': 74985603, 'ns': 0, 'title': 'Edge states'},\n",
       " {'pageid': 78147827, 'ns': 0, 'title': 'Electrostatic solitary wave'},\n",
       " {'pageid': 78554064, 'ns': 0, 'title': 'History of the LED'},\n",
       " {'pageid': 78751748, 'ns': 0, 'title': 'Missile lofting'},\n",
       " {'pageid': 168907, 'ns': 0, 'title': 'Naïve physics'},\n",
       " {'pageid': 78245824, 'ns': 0, 'title': 'Nottingham effect'}]"
      ]
     },
     "execution_count": 19,
     "metadata": {},
     "output_type": "execute_result"
    }
   ],
   "source": [
    "q['query']['categorymembers']"
   ]
  },
  {
   "cell_type": "code",
   "execution_count": 20,
   "metadata": {},
   "outputs": [
    {
     "data": {
      "text/plain": [
       "list"
      ]
     },
     "execution_count": 20,
     "metadata": {},
     "output_type": "execute_result"
    }
   ],
   "source": [
    "type(q['query']['categorymembers'])"
   ]
  },
  {
   "cell_type": "code",
   "execution_count": 21,
   "metadata": {},
   "outputs": [
    {
     "data": {
      "text/plain": [
       "'Physics'"
      ]
     },
     "execution_count": 21,
     "metadata": {},
     "output_type": "execute_result"
    }
   ],
   "source": [
    "q['query']['categorymembers'][0]['title']"
   ]
  },
  {
   "cell_type": "code",
   "execution_count": 22,
   "metadata": {},
   "outputs": [
    {
     "name": "stdout",
     "output_type": "stream",
     "text": [
      "Physics\n",
      "Modern physics\n",
      "Portal:Physics\n",
      "Bijel\n",
      "Edge states\n",
      "Electrostatic solitary wave\n",
      "History of the LED\n",
      "Missile lofting\n",
      "Naïve physics\n",
      "Nottingham effect\n"
     ]
    }
   ],
   "source": [
    "for cm in q['query']['categorymembers']:\n",
    "    print(cm['title'])"
   ]
  },
  {
   "cell_type": "markdown",
   "metadata": {},
   "source": [
    "_Источник: wiki.cs.hse.ru_"
   ]
  }
 ],
 "metadata": {
  "kernelspec": {
   "display_name": "Python 3 (ipykernel)",
   "language": "python",
   "name": "python3"
  },
  "language_info": {
   "codemirror_mode": {
    "name": "ipython",
    "version": 3
   },
   "file_extension": ".py",
   "mimetype": "text/x-python",
   "name": "python",
   "nbconvert_exporter": "python",
   "pygments_lexer": "ipython3",
   "version": "3.11.5"
  }
 },
 "nbformat": 4,
 "nbformat_minor": 2
}
