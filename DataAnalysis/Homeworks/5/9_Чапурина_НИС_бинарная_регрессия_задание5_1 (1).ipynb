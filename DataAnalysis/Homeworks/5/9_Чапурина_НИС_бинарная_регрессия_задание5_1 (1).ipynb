{
 "cells": [
  {
   "cell_type": "markdown",
   "metadata": {
    "id": "KbbQ_WjXe8aB"
   },
   "source": [
    "# Домашее задание №5"
   ]
  },
  {
   "cell_type": "markdown",
   "metadata": {
    "id": "AZwAC4Qve8aF"
   },
   "source": [
    "В файле advertising.csv содержаться данные о клиентах интернет-магазина.\n",
    "\n",
    "Набор данных содержит следующие переменные:\n",
    "\n",
    "    'Daily Time Spent on Site': consumer time on site in minutes\n",
    "    'Age': cutomer age in years\n",
    "    'Area Income': Avg. Income of geographical area of consumer\n",
    "    'Daily Internet Usage': Avg. minutes a day consumer is on the internet\n",
    "    'Ad Topic Line': Headline of the advertisement\n",
    "    'City': City of consumer\n",
    "    'Male': Whether or not consumer was male\n",
    "    'Country': Country of consumer\n",
    "    'Timestamp': Time at which consumer clicked on Ad or closed window\n",
    "    'Clicked on Ad': 0 or 1 indicated clicking on Ad\n",
    "\n",
    "\n",
    "Задача - создать модель, которая будет предсказывать, нажмет ли интернет-пользователь на рекламу, на основе характеристик этого пользователя.\n",
    "\n",
    "Задания:\n",
    "\n",
    "    •\tСформулируйте гипотезы исследования.\n",
    "    •\tПостройте модель бинарной логистической регрессии. Зависимая переменная - 'Clicked on Ad'. В качестве предикторов выберите не менее 3 метрических переменных и не менее 2 категориальных переменных.\n",
    "    •\tНапишите уравнение регрессии (линейная часть). Оцените характеристики регрессионной модели. Оцените статическую значимость и предсказательную силу модели.\n",
    "    •\tОцените значимость регрессионных коэффициентов. Подробно интерпретируйте особенности взаимосвязи между каждым из предикторов и зависимой переменной.\n",
    "    •\tПроведите диагностику модели (проверьте остатки на нормальность, оцените мультиколлинартность).\n",
    "    •\tОсуществите кросс-валидацию и опишите ее результаты.\n",
    "    •\tСформулируйте общие содержательные выводы по результатам регрессионного анализа данных. Какие результаты анализа данных для вас оказались очевидными, а какие неожиданными?"
   ]
  },
  {
   "cell_type": "markdown",
   "metadata": {
    "id": "yr2uwMP8e8aG"
   },
   "source": [
    "Обратите внимание, что все пункты задания должны сопровождаться _выполненным_ фрагментом кода!"
   ]
  },
  {
   "cell_type": "code",
   "execution_count": 1,
   "metadata": {
    "id": "kp-rUldYfJUP"
   },
   "outputs": [],
   "source": [
    "import pandas as pd\n",
    "import seaborn as sns\n",
    "import matplotlib.pyplot as plt\n",
    "from scipy import stats\n",
    "import numpy as np\n",
    "import statsmodels.api as sm\n",
    "from statsmodels.stats.outliers_influence import variance_inflation_factor as vif\n",
    "from sklearn.metrics import roc_curve, auc\n",
    "import warnings\n",
    "warnings.filterwarnings('ignore')"
   ]
  },
  {
   "cell_type": "code",
   "execution_count": 2,
   "metadata": {
    "colab": {
     "base_uri": "https://localhost:8080/",
     "height": 1000
    },
    "id": "fTdsX2xsfCdx",
    "outputId": "e7219cb3-8d93-4374-8a86-5d68a8237bbb"
   },
   "outputs": [
    {
     "data": {
      "text/html": [
       "<div>\n",
       "<style scoped>\n",
       "    .dataframe tbody tr th:only-of-type {\n",
       "        vertical-align: middle;\n",
       "    }\n",
       "\n",
       "    .dataframe tbody tr th {\n",
       "        vertical-align: top;\n",
       "    }\n",
       "\n",
       "    .dataframe thead th {\n",
       "        text-align: right;\n",
       "    }\n",
       "</style>\n",
       "<table border=\"1\" class=\"dataframe\">\n",
       "  <thead>\n",
       "    <tr style=\"text-align: right;\">\n",
       "      <th></th>\n",
       "      <th>Age</th>\n",
       "      <th>Area Income</th>\n",
       "      <th>Daily Internet Usage</th>\n",
       "      <th>Ad Topic Line</th>\n",
       "      <th>City</th>\n",
       "      <th>Male</th>\n",
       "      <th>Country</th>\n",
       "      <th>Timestamp</th>\n",
       "      <th>Clicked on Ad</th>\n",
       "    </tr>\n",
       "    <tr>\n",
       "      <th>Daily Time Spent on Site</th>\n",
       "      <th></th>\n",
       "      <th></th>\n",
       "      <th></th>\n",
       "      <th></th>\n",
       "      <th></th>\n",
       "      <th></th>\n",
       "      <th></th>\n",
       "      <th></th>\n",
       "      <th></th>\n",
       "    </tr>\n",
       "  </thead>\n",
       "  <tbody>\n",
       "    <tr>\n",
       "      <th>68.95</th>\n",
       "      <td>35</td>\n",
       "      <td>61833.90</td>\n",
       "      <td>256.09</td>\n",
       "      <td>Cloned 5thgeneration orchestration</td>\n",
       "      <td>Wrightburgh</td>\n",
       "      <td>0</td>\n",
       "      <td>Tunisia</td>\n",
       "      <td>2016-03-27 00:53:11</td>\n",
       "      <td>0</td>\n",
       "    </tr>\n",
       "    <tr>\n",
       "      <th>80.23</th>\n",
       "      <td>31</td>\n",
       "      <td>68441.85</td>\n",
       "      <td>193.77</td>\n",
       "      <td>Monitored national standardization</td>\n",
       "      <td>West Jodi</td>\n",
       "      <td>1</td>\n",
       "      <td>Nauru</td>\n",
       "      <td>2016-04-04 01:39:02</td>\n",
       "      <td>0</td>\n",
       "    </tr>\n",
       "    <tr>\n",
       "      <th>69.47</th>\n",
       "      <td>26</td>\n",
       "      <td>59785.94</td>\n",
       "      <td>236.50</td>\n",
       "      <td>Organic bottom-line service-desk</td>\n",
       "      <td>Davidton</td>\n",
       "      <td>0</td>\n",
       "      <td>San Marino</td>\n",
       "      <td>2016-03-13 20:35:42</td>\n",
       "      <td>0</td>\n",
       "    </tr>\n",
       "    <tr>\n",
       "      <th>74.15</th>\n",
       "      <td>29</td>\n",
       "      <td>54806.18</td>\n",
       "      <td>245.89</td>\n",
       "      <td>Triple-buffered reciprocal time-frame</td>\n",
       "      <td>West Terrifurt</td>\n",
       "      <td>1</td>\n",
       "      <td>Italy</td>\n",
       "      <td>2016-01-10 02:31:19</td>\n",
       "      <td>0</td>\n",
       "    </tr>\n",
       "    <tr>\n",
       "      <th>68.37</th>\n",
       "      <td>35</td>\n",
       "      <td>73889.99</td>\n",
       "      <td>225.58</td>\n",
       "      <td>Robust logistical utilization</td>\n",
       "      <td>South Manuel</td>\n",
       "      <td>0</td>\n",
       "      <td>Iceland</td>\n",
       "      <td>2016-06-03 03:36:18</td>\n",
       "      <td>0</td>\n",
       "    </tr>\n",
       "    <tr>\n",
       "      <th>59.99</th>\n",
       "      <td>23</td>\n",
       "      <td>59761.56</td>\n",
       "      <td>226.74</td>\n",
       "      <td>Sharable client-driven software</td>\n",
       "      <td>Jamieberg</td>\n",
       "      <td>1</td>\n",
       "      <td>Norway</td>\n",
       "      <td>2016-05-19 14:30:17</td>\n",
       "      <td>0</td>\n",
       "    </tr>\n",
       "    <tr>\n",
       "      <th>88.91</th>\n",
       "      <td>33</td>\n",
       "      <td>53852.85</td>\n",
       "      <td>208.36</td>\n",
       "      <td>Enhanced dedicated support</td>\n",
       "      <td>Brandonstad</td>\n",
       "      <td>0</td>\n",
       "      <td>Myanmar</td>\n",
       "      <td>2016-01-28 20:59:32</td>\n",
       "      <td>0</td>\n",
       "    </tr>\n",
       "    <tr>\n",
       "      <th>66.00</th>\n",
       "      <td>48</td>\n",
       "      <td>24593.33</td>\n",
       "      <td>131.76</td>\n",
       "      <td>Reactive local challenge</td>\n",
       "      <td>Port Jefferybury</td>\n",
       "      <td>1</td>\n",
       "      <td>Australia</td>\n",
       "      <td>2016-03-07 01:40:15</td>\n",
       "      <td>1</td>\n",
       "    </tr>\n",
       "    <tr>\n",
       "      <th>74.53</th>\n",
       "      <td>30</td>\n",
       "      <td>68862.00</td>\n",
       "      <td>221.51</td>\n",
       "      <td>Configurable coherent function</td>\n",
       "      <td>West Colin</td>\n",
       "      <td>1</td>\n",
       "      <td>Grenada</td>\n",
       "      <td>2016-04-18 09:33:42</td>\n",
       "      <td>0</td>\n",
       "    </tr>\n",
       "    <tr>\n",
       "      <th>69.88</th>\n",
       "      <td>20</td>\n",
       "      <td>55642.32</td>\n",
       "      <td>183.82</td>\n",
       "      <td>Mandatory homogeneous architecture</td>\n",
       "      <td>Ramirezton</td>\n",
       "      <td>1</td>\n",
       "      <td>Ghana</td>\n",
       "      <td>2016-07-11 01:42:51</td>\n",
       "      <td>0</td>\n",
       "    </tr>\n",
       "    <tr>\n",
       "      <th>47.64</th>\n",
       "      <td>49</td>\n",
       "      <td>45632.51</td>\n",
       "      <td>122.02</td>\n",
       "      <td>Centralized neutral neural-net</td>\n",
       "      <td>West Brandonton</td>\n",
       "      <td>0</td>\n",
       "      <td>Qatar</td>\n",
       "      <td>2016-03-16 20:19:01</td>\n",
       "      <td>1</td>\n",
       "    </tr>\n",
       "    <tr>\n",
       "      <th>83.07</th>\n",
       "      <td>37</td>\n",
       "      <td>62491.01</td>\n",
       "      <td>230.87</td>\n",
       "      <td>Team-oriented grid-enabled Local Area Network</td>\n",
       "      <td>East Theresashire</td>\n",
       "      <td>1</td>\n",
       "      <td>Burundi</td>\n",
       "      <td>2016-05-08 08:10:10</td>\n",
       "      <td>0</td>\n",
       "    </tr>\n",
       "    <tr>\n",
       "      <th>69.57</th>\n",
       "      <td>48</td>\n",
       "      <td>51636.92</td>\n",
       "      <td>113.12</td>\n",
       "      <td>Centralized content-based focus group</td>\n",
       "      <td>West Katiefurt</td>\n",
       "      <td>1</td>\n",
       "      <td>Egypt</td>\n",
       "      <td>2016-06-03 01:14:41</td>\n",
       "      <td>1</td>\n",
       "    </tr>\n",
       "    <tr>\n",
       "      <th>79.52</th>\n",
       "      <td>24</td>\n",
       "      <td>51739.63</td>\n",
       "      <td>214.23</td>\n",
       "      <td>Synergistic fresh-thinking array</td>\n",
       "      <td>North Tara</td>\n",
       "      <td>0</td>\n",
       "      <td>Bosnia and Herzegovina</td>\n",
       "      <td>2016-04-20 21:49:22</td>\n",
       "      <td>0</td>\n",
       "    </tr>\n",
       "    <tr>\n",
       "      <th>42.95</th>\n",
       "      <td>33</td>\n",
       "      <td>30976.00</td>\n",
       "      <td>143.56</td>\n",
       "      <td>Grass-roots coherent extranet</td>\n",
       "      <td>West William</td>\n",
       "      <td>0</td>\n",
       "      <td>Barbados</td>\n",
       "      <td>2016-03-24 09:31:49</td>\n",
       "      <td>1</td>\n",
       "    </tr>\n",
       "    <tr>\n",
       "      <th>63.45</th>\n",
       "      <td>23</td>\n",
       "      <td>52182.23</td>\n",
       "      <td>140.64</td>\n",
       "      <td>Persistent demand-driven interface</td>\n",
       "      <td>New Travistown</td>\n",
       "      <td>1</td>\n",
       "      <td>Spain</td>\n",
       "      <td>2016-03-09 03:41:30</td>\n",
       "      <td>1</td>\n",
       "    </tr>\n",
       "    <tr>\n",
       "      <th>55.39</th>\n",
       "      <td>37</td>\n",
       "      <td>23936.86</td>\n",
       "      <td>129.41</td>\n",
       "      <td>Customizable multi-tasking website</td>\n",
       "      <td>West Dylanberg</td>\n",
       "      <td>0</td>\n",
       "      <td>Palestinian Territory</td>\n",
       "      <td>2016-01-30 19:20:41</td>\n",
       "      <td>1</td>\n",
       "    </tr>\n",
       "    <tr>\n",
       "      <th>82.03</th>\n",
       "      <td>41</td>\n",
       "      <td>71511.08</td>\n",
       "      <td>187.53</td>\n",
       "      <td>Intuitive dynamic attitude</td>\n",
       "      <td>Pruittmouth</td>\n",
       "      <td>0</td>\n",
       "      <td>Afghanistan</td>\n",
       "      <td>2016-05-02 07:00:58</td>\n",
       "      <td>0</td>\n",
       "    </tr>\n",
       "    <tr>\n",
       "      <th>54.70</th>\n",
       "      <td>36</td>\n",
       "      <td>31087.54</td>\n",
       "      <td>118.39</td>\n",
       "      <td>Grass-roots solution-oriented conglomeration</td>\n",
       "      <td>Jessicastad</td>\n",
       "      <td>1</td>\n",
       "      <td>British Indian Ocean Territory (Chagos Archipe...</td>\n",
       "      <td>2016-02-13 07:53:55</td>\n",
       "      <td>1</td>\n",
       "    </tr>\n",
       "    <tr>\n",
       "      <th>74.58</th>\n",
       "      <td>40</td>\n",
       "      <td>23821.72</td>\n",
       "      <td>135.51</td>\n",
       "      <td>Advanced 24/7 productivity</td>\n",
       "      <td>Millertown</td>\n",
       "      <td>1</td>\n",
       "      <td>Russian Federation</td>\n",
       "      <td>2016-02-27 04:43:07</td>\n",
       "      <td>1</td>\n",
       "    </tr>\n",
       "    <tr>\n",
       "      <th>77.22</th>\n",
       "      <td>30</td>\n",
       "      <td>64802.33</td>\n",
       "      <td>224.44</td>\n",
       "      <td>Object-based reciprocal knowledgebase</td>\n",
       "      <td>Port Jacqueline</td>\n",
       "      <td>1</td>\n",
       "      <td>Cameroon</td>\n",
       "      <td>2016-01-05 07:52:48</td>\n",
       "      <td>0</td>\n",
       "    </tr>\n",
       "    <tr>\n",
       "      <th>84.59</th>\n",
       "      <td>35</td>\n",
       "      <td>60015.57</td>\n",
       "      <td>226.54</td>\n",
       "      <td>Streamlined non-volatile analyzer</td>\n",
       "      <td>Lake Nicole</td>\n",
       "      <td>1</td>\n",
       "      <td>Cameroon</td>\n",
       "      <td>2016-03-18 13:22:35</td>\n",
       "      <td>0</td>\n",
       "    </tr>\n",
       "    <tr>\n",
       "      <th>41.49</th>\n",
       "      <td>52</td>\n",
       "      <td>32635.70</td>\n",
       "      <td>164.83</td>\n",
       "      <td>Mandatory disintermediate utilization</td>\n",
       "      <td>South John</td>\n",
       "      <td>0</td>\n",
       "      <td>Burundi</td>\n",
       "      <td>2016-05-20 08:49:33</td>\n",
       "      <td>1</td>\n",
       "    </tr>\n",
       "    <tr>\n",
       "      <th>87.29</th>\n",
       "      <td>36</td>\n",
       "      <td>61628.72</td>\n",
       "      <td>209.93</td>\n",
       "      <td>Future-proofed methodical protocol</td>\n",
       "      <td>Pamelamouth</td>\n",
       "      <td>1</td>\n",
       "      <td>Korea</td>\n",
       "      <td>2016-03-23 09:43:43</td>\n",
       "      <td>0</td>\n",
       "    </tr>\n",
       "    <tr>\n",
       "      <th>41.39</th>\n",
       "      <td>41</td>\n",
       "      <td>68962.32</td>\n",
       "      <td>167.22</td>\n",
       "      <td>Exclusive neutral parallelism</td>\n",
       "      <td>Harperborough</td>\n",
       "      <td>0</td>\n",
       "      <td>Tokelau</td>\n",
       "      <td>2016-06-13 17:27:09</td>\n",
       "      <td>1</td>\n",
       "    </tr>\n",
       "  </tbody>\n",
       "</table>\n",
       "</div>"
      ],
      "text/plain": [
       "                          Age  Area Income  Daily Internet Usage  \\\n",
       "Daily Time Spent on Site                                           \n",
       "68.95                      35     61833.90                256.09   \n",
       "80.23                      31     68441.85                193.77   \n",
       "69.47                      26     59785.94                236.50   \n",
       "74.15                      29     54806.18                245.89   \n",
       "68.37                      35     73889.99                225.58   \n",
       "59.99                      23     59761.56                226.74   \n",
       "88.91                      33     53852.85                208.36   \n",
       "66.00                      48     24593.33                131.76   \n",
       "74.53                      30     68862.00                221.51   \n",
       "69.88                      20     55642.32                183.82   \n",
       "47.64                      49     45632.51                122.02   \n",
       "83.07                      37     62491.01                230.87   \n",
       "69.57                      48     51636.92                113.12   \n",
       "79.52                      24     51739.63                214.23   \n",
       "42.95                      33     30976.00                143.56   \n",
       "63.45                      23     52182.23                140.64   \n",
       "55.39                      37     23936.86                129.41   \n",
       "82.03                      41     71511.08                187.53   \n",
       "54.70                      36     31087.54                118.39   \n",
       "74.58                      40     23821.72                135.51   \n",
       "77.22                      30     64802.33                224.44   \n",
       "84.59                      35     60015.57                226.54   \n",
       "41.49                      52     32635.70                164.83   \n",
       "87.29                      36     61628.72                209.93   \n",
       "41.39                      41     68962.32                167.22   \n",
       "\n",
       "                                                          Ad Topic Line  \\\n",
       "Daily Time Spent on Site                                                  \n",
       "68.95                                Cloned 5thgeneration orchestration   \n",
       "80.23                                Monitored national standardization   \n",
       "69.47                                  Organic bottom-line service-desk   \n",
       "74.15                             Triple-buffered reciprocal time-frame   \n",
       "68.37                                     Robust logistical utilization   \n",
       "59.99                                   Sharable client-driven software   \n",
       "88.91                                        Enhanced dedicated support   \n",
       "66.00                                          Reactive local challenge   \n",
       "74.53                                    Configurable coherent function   \n",
       "69.88                                Mandatory homogeneous architecture   \n",
       "47.64                                    Centralized neutral neural-net   \n",
       "83.07                     Team-oriented grid-enabled Local Area Network   \n",
       "69.57                             Centralized content-based focus group   \n",
       "79.52                                  Synergistic fresh-thinking array   \n",
       "42.95                                     Grass-roots coherent extranet   \n",
       "63.45                                Persistent demand-driven interface   \n",
       "55.39                                Customizable multi-tasking website   \n",
       "82.03                                        Intuitive dynamic attitude   \n",
       "54.70                      Grass-roots solution-oriented conglomeration   \n",
       "74.58                                        Advanced 24/7 productivity   \n",
       "77.22                             Object-based reciprocal knowledgebase   \n",
       "84.59                                 Streamlined non-volatile analyzer   \n",
       "41.49                             Mandatory disintermediate utilization   \n",
       "87.29                                Future-proofed methodical protocol   \n",
       "41.39                                     Exclusive neutral parallelism   \n",
       "\n",
       "                                       City  Male  \\\n",
       "Daily Time Spent on Site                            \n",
       "68.95                           Wrightburgh     0   \n",
       "80.23                             West Jodi     1   \n",
       "69.47                              Davidton     0   \n",
       "74.15                        West Terrifurt     1   \n",
       "68.37                          South Manuel     0   \n",
       "59.99                             Jamieberg     1   \n",
       "88.91                           Brandonstad     0   \n",
       "66.00                      Port Jefferybury     1   \n",
       "74.53                            West Colin     1   \n",
       "69.88                            Ramirezton     1   \n",
       "47.64                       West Brandonton     0   \n",
       "83.07                     East Theresashire     1   \n",
       "69.57                        West Katiefurt     1   \n",
       "79.52                            North Tara     0   \n",
       "42.95                          West William     0   \n",
       "63.45                        New Travistown     1   \n",
       "55.39                        West Dylanberg     0   \n",
       "82.03                           Pruittmouth     0   \n",
       "54.70                           Jessicastad     1   \n",
       "74.58                            Millertown     1   \n",
       "77.22                       Port Jacqueline     1   \n",
       "84.59                           Lake Nicole     1   \n",
       "41.49                            South John     0   \n",
       "87.29                           Pamelamouth     1   \n",
       "41.39                         Harperborough     0   \n",
       "\n",
       "                                                                    Country  \\\n",
       "Daily Time Spent on Site                                                      \n",
       "68.95                                                               Tunisia   \n",
       "80.23                                                                 Nauru   \n",
       "69.47                                                            San Marino   \n",
       "74.15                                                                 Italy   \n",
       "68.37                                                               Iceland   \n",
       "59.99                                                                Norway   \n",
       "88.91                                                               Myanmar   \n",
       "66.00                                                             Australia   \n",
       "74.53                                                               Grenada   \n",
       "69.88                                                                 Ghana   \n",
       "47.64                                                                 Qatar   \n",
       "83.07                                                               Burundi   \n",
       "69.57                                                                 Egypt   \n",
       "79.52                                                Bosnia and Herzegovina   \n",
       "42.95                                                              Barbados   \n",
       "63.45                                                                 Spain   \n",
       "55.39                                                 Palestinian Territory   \n",
       "82.03                                                           Afghanistan   \n",
       "54.70                     British Indian Ocean Territory (Chagos Archipe...   \n",
       "74.58                                                    Russian Federation   \n",
       "77.22                                                              Cameroon   \n",
       "84.59                                                              Cameroon   \n",
       "41.49                                                               Burundi   \n",
       "87.29                                                                 Korea   \n",
       "41.39                                                               Tokelau   \n",
       "\n",
       "                                    Timestamp  Clicked on Ad  \n",
       "Daily Time Spent on Site                                      \n",
       "68.95                     2016-03-27 00:53:11              0  \n",
       "80.23                     2016-04-04 01:39:02              0  \n",
       "69.47                     2016-03-13 20:35:42              0  \n",
       "74.15                     2016-01-10 02:31:19              0  \n",
       "68.37                     2016-06-03 03:36:18              0  \n",
       "59.99                     2016-05-19 14:30:17              0  \n",
       "88.91                     2016-01-28 20:59:32              0  \n",
       "66.00                     2016-03-07 01:40:15              1  \n",
       "74.53                     2016-04-18 09:33:42              0  \n",
       "69.88                     2016-07-11 01:42:51              0  \n",
       "47.64                     2016-03-16 20:19:01              1  \n",
       "83.07                     2016-05-08 08:10:10              0  \n",
       "69.57                     2016-06-03 01:14:41              1  \n",
       "79.52                     2016-04-20 21:49:22              0  \n",
       "42.95                     2016-03-24 09:31:49              1  \n",
       "63.45                     2016-03-09 03:41:30              1  \n",
       "55.39                     2016-01-30 19:20:41              1  \n",
       "82.03                     2016-05-02 07:00:58              0  \n",
       "54.70                     2016-02-13 07:53:55              1  \n",
       "74.58                     2016-02-27 04:43:07              1  \n",
       "77.22                     2016-01-05 07:52:48              0  \n",
       "84.59                     2016-03-18 13:22:35              0  \n",
       "41.49                     2016-05-20 08:49:33              1  \n",
       "87.29                     2016-03-23 09:43:43              0  \n",
       "41.39                     2016-06-13 17:27:09              1  "
      ]
     },
     "execution_count": 2,
     "metadata": {},
     "output_type": "execute_result"
    }
   ],
   "source": [
    "df = pd.read_csv('advertising.csv', index_col=0)\n",
    "df.head(25)"
   ]
  },
  {
   "cell_type": "code",
   "execution_count": 3,
   "metadata": {
    "colab": {
     "base_uri": "https://localhost:8080/"
    },
    "id": "kqNYnv3FgMDr",
    "outputId": "e86fb417-432f-49c7-c7f7-7c3c70cf3fcb"
   },
   "outputs": [
    {
     "name": "stdout",
     "output_type": "stream",
     "text": [
      "<class 'pandas.core.frame.DataFrame'>\n",
      "Index: 1000 entries, 68.95 to 45.01\n",
      "Data columns (total 9 columns):\n",
      " #   Column                Non-Null Count  Dtype  \n",
      "---  ------                --------------  -----  \n",
      " 0   Age                   1000 non-null   int64  \n",
      " 1   Area Income           1000 non-null   float64\n",
      " 2   Daily Internet Usage  1000 non-null   float64\n",
      " 3   Ad Topic Line         1000 non-null   object \n",
      " 4   City                  1000 non-null   object \n",
      " 5   Male                  1000 non-null   int64  \n",
      " 6   Country               1000 non-null   object \n",
      " 7   Timestamp             1000 non-null   object \n",
      " 8   Clicked on Ad         1000 non-null   int64  \n",
      "dtypes: float64(2), int64(3), object(4)\n",
      "memory usage: 78.1+ KB\n"
     ]
    }
   ],
   "source": [
    "df.info()"
   ]
  },
  {
   "cell_type": "code",
   "execution_count": 4,
   "metadata": {
    "colab": {
     "base_uri": "https://localhost:8080/"
    },
    "id": "uRu0_PpigQa6",
    "outputId": "e55c780b-9ae4-4add-b005-fd4a2f872f0a"
   },
   "outputs": [
    {
     "name": "stdout",
     "output_type": "stream",
     "text": [
      "Type: int64\n",
      "['Age' 'Male' 'Clicked on Ad']\n",
      "\n",
      "Type: float64\n",
      "['Area Income' 'Daily Internet Usage']\n",
      "\n",
      "Type: object\n",
      "['Ad Topic Line' 'City' 'Country' 'Timestamp']\n",
      "\n"
     ]
    }
   ],
   "source": [
    "# Названия переменных, сгруппированные по типам данных\n",
    "for t in df.dtypes.unique():\n",
    "     print('Type: {}\\n{}\\n'.format(t, df.dtypes[df.dtypes==t].index.values))"
   ]
  },
  {
   "cell_type": "code",
   "execution_count": 5,
   "metadata": {
    "colab": {
     "base_uri": "https://localhost:8080/",
     "height": 53
    },
    "id": "ZsJDnXR9gUS4",
    "outputId": "515ff885-f1bf-47be-f337-b16b980a8899"
   },
   "outputs": [
    {
     "data": {
      "text/html": [
       "<div>\n",
       "<style scoped>\n",
       "    .dataframe tbody tr th:only-of-type {\n",
       "        vertical-align: middle;\n",
       "    }\n",
       "\n",
       "    .dataframe tbody tr th {\n",
       "        vertical-align: top;\n",
       "    }\n",
       "\n",
       "    .dataframe thead th {\n",
       "        text-align: right;\n",
       "    }\n",
       "</style>\n",
       "<table border=\"1\" class=\"dataframe\">\n",
       "  <thead>\n",
       "    <tr style=\"text-align: right;\">\n",
       "      <th></th>\n",
       "      <th>Процент пропущенных значений</th>\n",
       "    </tr>\n",
       "  </thead>\n",
       "  <tbody>\n",
       "  </tbody>\n",
       "</table>\n",
       "</div>"
      ],
      "text/plain": [
       "Empty DataFrame\n",
       "Columns: [Процент пропущенных значений]\n",
       "Index: []"
      ]
     },
     "execution_count": 5,
     "metadata": {},
     "output_type": "execute_result"
    }
   ],
   "source": [
    "# Процент пропущенных значений по переменным, содержащим пропуски\n",
    "missing = (df.isna().sum() / len(df)) * 100\n",
    "missing = missing[missing > 0].sort_values(ascending=False)\n",
    "missing = pd.DataFrame({'Процент пропущенных значений' : missing})\n",
    "missing\n",
    "\n",
    "# ура, нет пропусков!"
   ]
  },
  {
   "cell_type": "markdown",
   "metadata": {
    "id": "Q3YH7D0nvP29"
   },
   "source": [
    "## Гипотезы исследования\n",
    "H0: Некоторые метрики влияют на вероятность клика по рекламе\n",
    "\n",
    "H1: или не влияют"
   ]
  },
  {
   "cell_type": "markdown",
   "metadata": {},
   "source": [
    "<font color='red'> гипотезы формулируются отдельно для каждого предиктора следующим образом: Н_0 предиктор не влияет на таргет, Н_1 - влияет на тергет</font>"
   ]
  },
  {
   "cell_type": "markdown",
   "metadata": {
    "id": "BLQgijxk_3ZB"
   },
   "source": [
    "## Выбор переменных\n",
    "`Ad Topic Line`, `City`, `Country`и `Timestamp` не хочется выбирать, так как данные сильно различаются и не получится выявить взаимосвязи. Выберем `Age` (метрическая), `Male` (категориальная), `Area Income` (метрическая) и `Daily Internet Usage` (метрическая)\n",
    "\n",
    "- в чате писали, что не обязательно выбирать >= 2 категориальных\n",
    "\n",
    "Категориальная переменная Male принимает 2 значения типа Int (0 или 1), поэтому dummy-переменные создавать не нужно"
   ]
  },
  {
   "cell_type": "markdown",
   "metadata": {
    "id": "9FhvWb5tgkFj"
   },
   "source": [
    "### Зависимая переменная"
   ]
  },
  {
   "cell_type": "code",
   "execution_count": 6,
   "metadata": {
    "colab": {
     "base_uri": "https://localhost:8080/",
     "height": 178
    },
    "id": "5DPhSYL_gqA3",
    "outputId": "985a047d-ba5a-4c7d-cf79-6e3be2b79aa5"
   },
   "outputs": [
    {
     "data": {
      "text/plain": [
       "Clicked on Ad\n",
       "0    500\n",
       "1    500\n",
       "Name: count, dtype: int64"
      ]
     },
     "execution_count": 6,
     "metadata": {},
     "output_type": "execute_result"
    }
   ],
   "source": [
    "df['Clicked on Ad'].value_counts()"
   ]
  },
  {
   "cell_type": "markdown",
   "metadata": {
    "id": "0Zh969tCgyJK"
   },
   "source": [
    "### Предварительный анализ взаимосвязей между зависимой переменной и предикторами"
   ]
  },
  {
   "cell_type": "code",
   "execution_count": 7,
   "metadata": {
    "colab": {
     "base_uri": "https://localhost:8080/",
     "height": 1000
    },
    "id": "YUjtgRvig0sF",
    "outputId": "bd68f79f-187b-49f0-a28f-2d3947ba4d32"
   },
   "outputs": [
    {
     "data": {
      "image/png": "[encoded data removed]",
      "text/plain": [
       "<Figure size 800x500 with 1 Axes>"
      ]
     },
     "metadata": {},
     "output_type": "display_data"
    },
    {
     "data": {
      "image/png": "[encoded data removed]",
      "text/plain": [
       "<Figure size 800x500 with 1 Axes>"
      ]
     },
     "metadata": {},
     "output_type": "display_data"
    },
    {
     "data": {
      "image/png": "[encoded data removed]",
      "text/plain": [
       "<Figure size 800x500 with 1 Axes>"
      ]
     },
     "metadata": {},
     "output_type": "display_data"
    },
    {
     "data": {
      "image/png": "[encoded data removed]",
      "text/plain": [
       "<Figure size 800x500 with 1 Axes>"
      ]
     },
     "metadata": {},
     "output_type": "display_data"
    }
   ],
   "source": [
    "for c in df.columns[:]:\n",
    "    if c == 'Age' or c == 'Male' or c=='Area Income' or c=='Daily Internet Usage':\n",
    "        plt.figure(figsize=(8,5))\n",
    "        plt.title('{} vs. Clicked on Ad'.format(c), fontsize=16)\n",
    "        plt.scatter(x=df[c], y=df['Clicked on Ad'], color='blue',edgecolor='k')\n",
    "        plt.grid(True)\n",
    "        plt.xlabel(c, fontsize=14)\n",
    "        plt.ylabel('Clicked on Ad', fontsize=14)\n",
    "        plt.show()"
   ]
  },
  {
   "cell_type": "markdown",
   "metadata": {},
   "source": [
    "<font color='red'>не проверила корреляции с таргетом и между предикторами </font>"
   ]
  },
  {
   "cell_type": "markdown",
   "metadata": {
    "id": "ZA-3rs38GYg1"
   },
   "source": [
    "## Строим модель"
   ]
  },
  {
   "cell_type": "code",
   "execution_count": 8,
   "metadata": {
    "id": "8Xdg7cijGbsl"
   },
   "outputs": [],
   "source": [
    "x_mult = df[['Age', 'Male', 'Area Income', 'Daily Internet Usage']]\n",
    "y = df['Clicked on Ad']\n",
    "x_mult_constant = sm.add_constant(x_mult)"
   ]
  },
  {
   "cell_type": "code",
   "execution_count": 9,
   "metadata": {
    "colab": {
     "base_uri": "https://localhost:8080/"
    },
    "id": "fv2k1wKFG7OW",
    "outputId": "3a9e2d17-1f23-49ed-8775-ae0be4dd3977"
   },
   "outputs": [
    {
     "name": "stdout",
     "output_type": "stream",
     "text": [
      "Optimization terminated successfully.\n",
      "         Current function value: 0.195477\n",
      "         Iterations 8\n",
      "                           Logit Regression Results                           \n",
      "==============================================================================\n",
      "Dep. Variable:          Clicked on Ad   No. Observations:                 1000\n",
      "Model:                          Logit   Df Residuals:                      995\n",
      "Method:                           MLE   Df Model:                            4\n",
      "Date:                Tue, 03 Dec 2024   Pseudo R-squ.:                  0.7180\n",
      "Time:                        13:48:21   Log-Likelihood:                -195.48\n",
      "converged:                       True   LL-Null:                       -693.15\n",
      "Covariance Type:            nonrobust   LLR p-value:                3.652e-214\n",
      "========================================================================================\n",
      "                           coef    std err          z      P>|z|      [0.025      0.975]\n",
      "----------------------------------------------------------------------------------------\n",
      "const                   13.2809      1.270     10.455      0.000      10.791      15.771\n",
      "Age                      0.1416      0.018      7.985      0.000       0.107       0.176\n",
      "Male                    -0.3056      0.268     -1.141      0.254      -0.830       0.219\n",
      "Area Income             -0.0001    1.2e-05     -8.351      0.000      -0.000   -7.69e-05\n",
      "Daily Internet Usage    -0.0672      0.005    -13.932      0.000      -0.077      -0.058\n",
      "========================================================================================\n"
     ]
    }
   ],
   "source": [
    "model1 = sm.Logit(y, x_mult_constant).fit()\n",
    "print(model1.summary())"
   ]
  },
  {
   "cell_type": "markdown",
   "metadata": {
    "id": "M2UgXkVdMrPv"
   },
   "source": [
    "## 3) Напишите уравнение регрессии (линейная часть). Оцените характеристики регрессионной модели. Оцените статическую значимость и предсказательную силу модели. И 4) пункт\n",
    "\n",
    "### Комментарии к выводу модели\n",
    "- Current function value: 0.195477. Значение функции логарифмической правдоподобности (log-likelihood) в финальной итерации. Маленькое => модель хорошо объясняет данные.\n",
    "- Pseudo R-squared: 0.7180. Значение 0.7180 указывает на хорошую объяснительную способность модели.\n",
    "- Log-Likelihood и LL-Null\n",
    "    - Log-Likelihood: -195.48. Значение логарифма правдоподобия текущей модели.\n",
    "    - LL-Null: -693.15. Значение логарифма правдоподобия модели без предикторов (только константа). Разница между ними показывает, насколько улучшилась модель.\n",
    "- LLR p-value: 3.652e-214. p-значение теста отношения правдоподобий, показывающее, что модель с предикторами значительно лучше, чем модель без них.\n",
    "\n",
    "-----\n",
    "Интерпретация предикторов\n",
    "--\n",
    "- Age (0.1416, p < 0.0001). Увеличение возраста связано с увеличением вероятности клика (положительный коэффициент, значимая связь). Коэффициент 0.1416 означает, что с увеличением возраста на 1 год логарифм отношения шансов возрастает на 0.1416, что соответствует увеличению шансов клика примерно на 15.2%\n",
    "- Male (-0.3056, p = 0.254). Пол не оказывает статистически значимого влияния на вероятность клика (p > 0.05). То есть различия между мужчинами и женщинами в контексте кликов на рекламу отсутствуют (или не подтверждаются данными).\n",
    "- Area Income (-0.0001, p < 0.0001). Увеличение дохода связано с уменьшением вероятности клика (значимая отрицательная связь). С увеличением дохода в районе на единицу (например, на 1 доллар) логит вероятности клика уменьшается на 0.0001. Это незначительное влияние на уровне единичных изменений, но в масштабах больших доходов (например, 10_000) шансы клика снижаются существенно\n",
    " $e^{−0.0001⋅10000} ≈ 0.367,$ то есть снижение на 63.3%\n",
    "- Daily Internet Usage (-0.0672, p < 0.0001). Чем больше времени пользователь проводит в интернете, тем ниже вероятность клика (значимая отрицательная связь). Увеличение времени использования интернета на 1 час снижает логит вероятности клика на 0.0672, что соответствует уменьшению шансов клика примерно на 6.5%\n",
    "($e^{−0.0672} - 1 ≈ −0.065$)\n",
    "- Const. Константа показывает базовый уровень логита вероятности, когда все предикторы равны 0. Это скорее технический параметр и не интерпретируется в смысле взаимосвязи.\n"
   ]
  },
  {
   "cell_type": "code",
   "execution_count": 10,
   "metadata": {
    "colab": {
     "base_uri": "https://localhost:8080/"
    },
    "id": "yfw-TC7CQ7mx",
    "outputId": "0bf2de8b-5923-4cfc-905f-9b1478d1aeb0"
   },
   "outputs": [
    {
     "name": "stdout",
     "output_type": "stream",
     "text": [
      "Model significance = 0.000000\n"
     ]
    }
   ],
   "source": [
    "print('Model significance = {:f}'.format(model1.llr_pvalue))"
   ]
  },
  {
   "cell_type": "code",
   "execution_count": 11,
   "metadata": {
    "colab": {
     "base_uri": "https://localhost:8080/"
    },
    "id": "RgAZQU9eRWW6",
    "outputId": "c8c0e0d1-f1b9-4db3-af03-4e0de5ce9b5b"
   },
   "outputs": [
    {
     "name": "stdout",
     "output_type": "stream",
     "text": [
      "logit(p) = 13.280906 + 0.14*Age + -0.31*Male + -0.00*Area Income + -0.07*Daily Internet Usage\n"
     ]
    }
   ],
   "source": [
    "l = []\n",
    "for (param, index) in zip(model1.params[1:], model1.params.index[1:]):\n",
    "    l.append('{:.2f}*{}'.format(param, index))\n",
    "\n",
    "print('logit(p) = {:2f} + {}'.format(model1.params[0], ' + '.join(l)))"
   ]
  },
  {
   "cell_type": "markdown",
   "metadata": {
    "id": "dn9-ceM7Rjrr"
   },
   "source": [
    "Модель статистически значима, уравнение регрессии выше"
   ]
  },
  {
   "cell_type": "markdown",
   "metadata": {
    "id": "yNz9pTevXCe4"
   },
   "source": [
    "### Матрица ошибок"
   ]
  },
  {
   "cell_type": "code",
   "execution_count": 12,
   "metadata": {
    "colab": {
     "base_uri": "https://localhost:8080/"
    },
    "id": "P6Km5R7-XEOb",
    "outputId": "b89f2dcc-eb34-45f4-89db-5ba473f5d351"
   },
   "outputs": [
    {
     "data": {
      "text/plain": [
       "array([[476.,  24.],\n",
       "       [ 41., 459.]])"
      ]
     },
     "execution_count": 12,
     "metadata": {},
     "output_type": "execute_result"
    }
   ],
   "source": [
    "cm = model1.pred_table()\n",
    "cm"
   ]
  },
  {
   "cell_type": "code",
   "execution_count": 13,
   "metadata": {
    "colab": {
     "base_uri": "https://localhost:8080/"
    },
    "id": "q3pDH7glXPOc",
    "outputId": "12909c67-c78a-4c1a-87bb-19f7d046747d"
   },
   "outputs": [
    {
     "name": "stdout",
     "output_type": "stream",
     "text": [
      "Точность (процент верно предсказанных событий): = 0.935\n"
     ]
    }
   ],
   "source": [
    "accuracy = (cm[0,0] + cm[1,1]) / sum(sum(cm))\n",
    "print('Точность (процент верно предсказанных событий): = {}'.format(accuracy))"
   ]
  },
  {
   "cell_type": "markdown",
   "metadata": {
    "id": "NkEZV3l0XYhS"
   },
   "source": [
    "### ROC-curve"
   ]
  },
  {
   "cell_type": "code",
   "execution_count": 14,
   "metadata": {
    "colab": {
     "base_uri": "https://localhost:8080/",
     "height": 449
    },
    "id": "sgQEfcD9Xdos",
    "outputId": "7e416716-1ebf-4c76-db4b-0708a5c0ba36"
   },
   "outputs": [
    {
     "data": {
      "image/png": "[encoded data removed]",
      "text/plain": [
       "<Figure size 640x480 with 1 Axes>"
      ]
     },
     "metadata": {},
     "output_type": "display_data"
    }
   ],
   "source": [
    "fpr, tpr, _ = roc_curve(df['Clicked on Ad'], model1.predict())\n",
    "roc_auc = auc(fpr, tpr)\n",
    "\n",
    "plt.plot(fpr, tpr, color='darkorange', lw=2, label='ROC curve (area = %0.2f)' % roc_auc)\n",
    "plt.plot([0, 1], [0, 1], color='navy', lw=2, linestyle='--')\n",
    "plt.xlim([0.0, 1.0])\n",
    "plt.ylim([0.0, 1.05])\n",
    "plt.xlabel('False Positive Rate')\n",
    "plt.ylabel('True Positive Rate')\n",
    "plt.legend(loc='lower right')\n",
    "plt.show()"
   ]
  },
  {
   "cell_type": "markdown",
   "metadata": {
    "id": "ljc023i7Xzcj"
   },
   "source": [
    "отличный результат"
   ]
  },
  {
   "cell_type": "markdown",
   "metadata": {
    "id": "NN7OrBXaVqGP"
   },
   "source": [
    "## 5) Диагностика модели"
   ]
  },
  {
   "cell_type": "markdown",
   "metadata": {
    "id": "EdaL0_LIVwak"
   },
   "source": [
    "### Остатки"
   ]
  },
  {
   "cell_type": "code",
   "execution_count": 15,
   "metadata": {
    "colab": {
     "base_uri": "https://localhost:8080/"
    },
    "id": "s1TC3hyhVtfx",
    "outputId": "06b623f8-94ff-44d4-80d2-e259ae919f8c"
   },
   "outputs": [
    {
     "name": "stdout",
     "output_type": "stream",
     "text": [
      "P-value: 0.000\n"
     ]
    }
   ],
   "source": [
    "p = stats.kstest(model1.resid_generalized, 'norm', args=(model1.resid_generalized.mean(), model1.resid_generalized.std())).pvalue\n",
    "print('P-value: {:.3f}'.format(p))"
   ]
  },
  {
   "cell_type": "code",
   "execution_count": 16,
   "metadata": {
    "colab": {
     "base_uri": "https://localhost:8080/",
     "height": 447
    },
    "id": "lzpfyaL-V1-C",
    "outputId": "55703e82-0a8f-4d12-d02e-b732172f66e2"
   },
   "outputs": [
    {
     "data": {
      "text/plain": [
       "<Axes: ylabel='Density'>"
      ]
     },
     "execution_count": 16,
     "metadata": {},
     "output_type": "execute_result"
    },
    {
     "data": {
      "image/png": "[encoded data removed]",
      "text/plain": [
       "<Figure size 640x480 with 1 Axes>"
      ]
     },
     "metadata": {},
     "output_type": "display_data"
    }
   ],
   "source": [
    "sns.distplot(model1.resid_generalized, fit=stats.norm)\n",
    "# Распределение остатков отличается от нормального распределения."
   ]
  },
  {
   "cell_type": "markdown",
   "metadata": {
    "id": "IYxO79rOV_XK"
   },
   "source": [
    "### Мультиколлинеарность"
   ]
  },
  {
   "cell_type": "code",
   "execution_count": 17,
   "metadata": {
    "colab": {
     "base_uri": "https://localhost:8080/",
     "height": 175
    },
    "id": "WNzBD_eMWHBH",
    "outputId": "4c603a17-5a9b-4a3a-c20a-1cf132c0742f"
   },
   "outputs": [
    {
     "data": {
      "text/html": [
       "<div>\n",
       "<style scoped>\n",
       "    .dataframe tbody tr th:only-of-type {\n",
       "        vertical-align: middle;\n",
       "    }\n",
       "\n",
       "    .dataframe tbody tr th {\n",
       "        vertical-align: top;\n",
       "    }\n",
       "\n",
       "    .dataframe thead th {\n",
       "        text-align: right;\n",
       "    }\n",
       "</style>\n",
       "<table border=\"1\" class=\"dataframe\">\n",
       "  <thead>\n",
       "    <tr style=\"text-align: right;\">\n",
       "      <th></th>\n",
       "      <th>VIF</th>\n",
       "      <th>Features</th>\n",
       "    </tr>\n",
       "  </thead>\n",
       "  <tbody>\n",
       "    <tr>\n",
       "      <th>1</th>\n",
       "      <td>1.001008</td>\n",
       "      <td>Male</td>\n",
       "    </tr>\n",
       "    <tr>\n",
       "      <th>2</th>\n",
       "      <td>1.133737</td>\n",
       "      <td>Area Income</td>\n",
       "    </tr>\n",
       "    <tr>\n",
       "      <th>0</th>\n",
       "      <td>1.161245</td>\n",
       "      <td>Age</td>\n",
       "    </tr>\n",
       "    <tr>\n",
       "      <th>3</th>\n",
       "      <td>1.267338</td>\n",
       "      <td>Daily Internet Usage</td>\n",
       "    </tr>\n",
       "  </tbody>\n",
       "</table>\n",
       "</div>"
      ],
      "text/plain": [
       "        VIF              Features\n",
       "1  1.001008                  Male\n",
       "2  1.133737           Area Income\n",
       "0  1.161245                   Age\n",
       "3  1.267338  Daily Internet Usage"
      ]
     },
     "execution_count": 17,
     "metadata": {},
     "output_type": "execute_result"
    }
   ],
   "source": [
    "vifs = np.array([vif(model1.model.exog, i) for i in range(model1.model.exog.shape[1])])\n",
    "vif_df = pd.DataFrame()\n",
    "vif_df['VIF'] = vifs[1:]\n",
    "vif_df['Features'] = model1.params.index[1:]\n",
    "vif_df.sort_values(by=['VIF'])\n",
    "\n",
    "# Нет значений VIF, превышающих 10. Проблема мультиколлинеарности отсутствует."
   ]
  },
  {
   "cell_type": "markdown",
   "metadata": {
    "id": "YRvxi4nMWhaG"
   },
   "source": [
    "## 6)  Осуществите кросс-валидацию и опишите ее результаты.\n",
    "Разделим данные на обучающую и тестовую выборки в пропорции 80% и 20% соответственно."
   ]
  },
  {
   "cell_type": "code",
   "execution_count": 18,
   "metadata": {
    "colab": {
     "base_uri": "https://localhost:8080/",
     "height": 785
    },
    "id": "L-ZqqXpZYp-n",
    "outputId": "da8eeda8-49f1-4617-c2bb-86bf5e382dd2"
   },
   "outputs": [
    {
     "data": {
      "text/html": [
       "<div>\n",
       "<style scoped>\n",
       "    .dataframe tbody tr th:only-of-type {\n",
       "        vertical-align: middle;\n",
       "    }\n",
       "\n",
       "    .dataframe tbody tr th {\n",
       "        vertical-align: top;\n",
       "    }\n",
       "\n",
       "    .dataframe thead th {\n",
       "        text-align: right;\n",
       "    }\n",
       "</style>\n",
       "<table border=\"1\" class=\"dataframe\">\n",
       "  <thead>\n",
       "    <tr style=\"text-align: right;\">\n",
       "      <th></th>\n",
       "      <th>Age</th>\n",
       "      <th>Area Income</th>\n",
       "      <th>Daily Internet Usage</th>\n",
       "      <th>Ad Topic Line</th>\n",
       "      <th>City</th>\n",
       "      <th>Male</th>\n",
       "      <th>Country</th>\n",
       "      <th>Timestamp</th>\n",
       "      <th>Clicked on Ad</th>\n",
       "      <th>probability</th>\n",
       "    </tr>\n",
       "    <tr>\n",
       "      <th>Daily Time Spent on Site</th>\n",
       "      <th></th>\n",
       "      <th></th>\n",
       "      <th></th>\n",
       "      <th></th>\n",
       "      <th></th>\n",
       "      <th></th>\n",
       "      <th></th>\n",
       "      <th></th>\n",
       "      <th></th>\n",
       "      <th></th>\n",
       "    </tr>\n",
       "  </thead>\n",
       "  <tbody>\n",
       "    <tr>\n",
       "      <th>68.95</th>\n",
       "      <td>35</td>\n",
       "      <td>61833.90</td>\n",
       "      <td>256.09</td>\n",
       "      <td>Cloned 5thgeneration orchestration</td>\n",
       "      <td>Wrightburgh</td>\n",
       "      <td>0</td>\n",
       "      <td>Tunisia</td>\n",
       "      <td>2016-03-27 00:53:11</td>\n",
       "      <td>0</td>\n",
       "      <td>0.005576</td>\n",
       "    </tr>\n",
       "    <tr>\n",
       "      <th>80.23</th>\n",
       "      <td>31</td>\n",
       "      <td>68441.85</td>\n",
       "      <td>193.77</td>\n",
       "      <td>Monitored national standardization</td>\n",
       "      <td>West Jodi</td>\n",
       "      <td>1</td>\n",
       "      <td>Nauru</td>\n",
       "      <td>2016-04-04 01:39:02</td>\n",
       "      <td>0</td>\n",
       "      <td>0.073688</td>\n",
       "    </tr>\n",
       "    <tr>\n",
       "      <th>69.47</th>\n",
       "      <td>26</td>\n",
       "      <td>59785.94</td>\n",
       "      <td>236.50</td>\n",
       "      <td>Organic bottom-line service-desk</td>\n",
       "      <td>Davidton</td>\n",
       "      <td>0</td>\n",
       "      <td>San Marino</td>\n",
       "      <td>2016-03-13 20:35:42</td>\n",
       "      <td>0</td>\n",
       "      <td>0.007133</td>\n",
       "    </tr>\n",
       "    <tr>\n",
       "      <th>74.15</th>\n",
       "      <td>29</td>\n",
       "      <td>54806.18</td>\n",
       "      <td>245.89</td>\n",
       "      <td>Triple-buffered reciprocal time-frame</td>\n",
       "      <td>West Terrifurt</td>\n",
       "      <td>1</td>\n",
       "      <td>Italy</td>\n",
       "      <td>2016-01-10 02:31:19</td>\n",
       "      <td>0</td>\n",
       "      <td>0.007050</td>\n",
       "    </tr>\n",
       "    <tr>\n",
       "      <th>68.37</th>\n",
       "      <td>35</td>\n",
       "      <td>73889.99</td>\n",
       "      <td>225.58</td>\n",
       "      <td>Robust logistical utilization</td>\n",
       "      <td>South Manuel</td>\n",
       "      <td>0</td>\n",
       "      <td>Iceland</td>\n",
       "      <td>2016-06-03 03:36:18</td>\n",
       "      <td>0</td>\n",
       "      <td>0.012815</td>\n",
       "    </tr>\n",
       "    <tr>\n",
       "      <th>...</th>\n",
       "      <td>...</td>\n",
       "      <td>...</td>\n",
       "      <td>...</td>\n",
       "      <td>...</td>\n",
       "      <td>...</td>\n",
       "      <td>...</td>\n",
       "      <td>...</td>\n",
       "      <td>...</td>\n",
       "      <td>...</td>\n",
       "      <td>...</td>\n",
       "    </tr>\n",
       "    <tr>\n",
       "      <th>72.97</th>\n",
       "      <td>30</td>\n",
       "      <td>71384.57</td>\n",
       "      <td>208.58</td>\n",
       "      <td>Fundamental modular algorithm</td>\n",
       "      <td>Duffystad</td>\n",
       "      <td>1</td>\n",
       "      <td>Lebanon</td>\n",
       "      <td>2016-02-11 21:49:00</td>\n",
       "      <td>1</td>\n",
       "      <td>0.018637</td>\n",
       "    </tr>\n",
       "    <tr>\n",
       "      <th>51.30</th>\n",
       "      <td>45</td>\n",
       "      <td>67782.17</td>\n",
       "      <td>134.42</td>\n",
       "      <td>Grass-roots cohesive monitoring</td>\n",
       "      <td>New Darlene</td>\n",
       "      <td>1</td>\n",
       "      <td>Bosnia and Herzegovina</td>\n",
       "      <td>2016-04-22 02:07:01</td>\n",
       "      <td>1</td>\n",
       "      <td>0.970850</td>\n",
       "    </tr>\n",
       "    <tr>\n",
       "      <th>51.63</th>\n",
       "      <td>51</td>\n",
       "      <td>42415.72</td>\n",
       "      <td>120.37</td>\n",
       "      <td>Expanded intangible solution</td>\n",
       "      <td>South Jessica</td>\n",
       "      <td>1</td>\n",
       "      <td>Mongolia</td>\n",
       "      <td>2016-02-01 17:24:57</td>\n",
       "      <td>1</td>\n",
       "      <td>0.999609</td>\n",
       "    </tr>\n",
       "    <tr>\n",
       "      <th>55.55</th>\n",
       "      <td>19</td>\n",
       "      <td>41920.79</td>\n",
       "      <td>187.95</td>\n",
       "      <td>Proactive bandwidth-monitored policy</td>\n",
       "      <td>West Steven</td>\n",
       "      <td>0</td>\n",
       "      <td>Guatemala</td>\n",
       "      <td>2016-03-24 02:35:54</td>\n",
       "      <td>0</td>\n",
       "      <td>0.295252</td>\n",
       "    </tr>\n",
       "    <tr>\n",
       "      <th>45.01</th>\n",
       "      <td>26</td>\n",
       "      <td>29875.80</td>\n",
       "      <td>178.35</td>\n",
       "      <td>Virtual 5thgeneration emulation</td>\n",
       "      <td>Ronniemouth</td>\n",
       "      <td>0</td>\n",
       "      <td>Brazil</td>\n",
       "      <td>2016-06-03 21:43:21</td>\n",
       "      <td>1</td>\n",
       "      <td>0.878267</td>\n",
       "    </tr>\n",
       "  </tbody>\n",
       "</table>\n",
       "<p>1000 rows × 10 columns</p>\n",
       "</div>"
      ],
      "text/plain": [
       "                          Age  Area Income  Daily Internet Usage  \\\n",
       "Daily Time Spent on Site                                           \n",
       "68.95                      35     61833.90                256.09   \n",
       "80.23                      31     68441.85                193.77   \n",
       "69.47                      26     59785.94                236.50   \n",
       "74.15                      29     54806.18                245.89   \n",
       "68.37                      35     73889.99                225.58   \n",
       "...                       ...          ...                   ...   \n",
       "72.97                      30     71384.57                208.58   \n",
       "51.30                      45     67782.17                134.42   \n",
       "51.63                      51     42415.72                120.37   \n",
       "55.55                      19     41920.79                187.95   \n",
       "45.01                      26     29875.80                178.35   \n",
       "\n",
       "                                                  Ad Topic Line  \\\n",
       "Daily Time Spent on Site                                          \n",
       "68.95                        Cloned 5thgeneration orchestration   \n",
       "80.23                        Monitored national standardization   \n",
       "69.47                          Organic bottom-line service-desk   \n",
       "74.15                     Triple-buffered reciprocal time-frame   \n",
       "68.37                             Robust logistical utilization   \n",
       "...                                                         ...   \n",
       "72.97                             Fundamental modular algorithm   \n",
       "51.30                           Grass-roots cohesive monitoring   \n",
       "51.63                              Expanded intangible solution   \n",
       "55.55                      Proactive bandwidth-monitored policy   \n",
       "45.01                           Virtual 5thgeneration emulation   \n",
       "\n",
       "                                    City  Male                 Country  \\\n",
       "Daily Time Spent on Site                                                 \n",
       "68.95                        Wrightburgh     0                 Tunisia   \n",
       "80.23                          West Jodi     1                   Nauru   \n",
       "69.47                           Davidton     0              San Marino   \n",
       "74.15                     West Terrifurt     1                   Italy   \n",
       "68.37                       South Manuel     0                 Iceland   \n",
       "...                                  ...   ...                     ...   \n",
       "72.97                          Duffystad     1                 Lebanon   \n",
       "51.30                        New Darlene     1  Bosnia and Herzegovina   \n",
       "51.63                      South Jessica     1                Mongolia   \n",
       "55.55                        West Steven     0               Guatemala   \n",
       "45.01                        Ronniemouth     0                  Brazil   \n",
       "\n",
       "                                    Timestamp  Clicked on Ad  probability  \n",
       "Daily Time Spent on Site                                                   \n",
       "68.95                     2016-03-27 00:53:11              0     0.005576  \n",
       "80.23                     2016-04-04 01:39:02              0     0.073688  \n",
       "69.47                     2016-03-13 20:35:42              0     0.007133  \n",
       "74.15                     2016-01-10 02:31:19              0     0.007050  \n",
       "68.37                     2016-06-03 03:36:18              0     0.012815  \n",
       "...                                       ...            ...          ...  \n",
       "72.97                     2016-02-11 21:49:00              1     0.018637  \n",
       "51.30                     2016-04-22 02:07:01              1     0.970850  \n",
       "51.63                     2016-02-01 17:24:57              1     0.999609  \n",
       "55.55                     2016-03-24 02:35:54              0     0.295252  \n",
       "45.01                     2016-06-03 21:43:21              1     0.878267  \n",
       "\n",
       "[1000 rows x 10 columns]"
      ]
     },
     "execution_count": 18,
     "metadata": {},
     "output_type": "execute_result"
    }
   ],
   "source": [
    "# Сохранение предсказанной вероятности наступления события для каждого наблюдения\n",
    "df['probability'] = model1.predict()\n",
    "df"
   ]
  },
  {
   "cell_type": "code",
   "execution_count": 19,
   "metadata": {
    "colab": {
     "base_uri": "https://localhost:8080/"
    },
    "id": "41XTBh83Wjqy",
    "outputId": "38f3c707-93c3-414f-afa1-468e6861fba6"
   },
   "outputs": [
    {
     "name": "stdout",
     "output_type": "stream",
     "text": [
      "Train Result:\n",
      "================================================\n",
      "Accuracy Score: 91.25%\n",
      "_______________________________________________\n",
      "CLASSIFICATION REPORT:\n",
      "                    0           1  accuracy   macro avg  weighted avg\n",
      "precision    0.890777    0.935567    0.9125    0.913172      0.913620\n",
      "recall       0.936224    0.889706    0.9125    0.912965      0.912500\n",
      "f1-score     0.912935    0.912060    0.9125    0.912498      0.912489\n",
      "support    392.000000  408.000000    0.9125  800.000000    800.000000\n",
      "_______________________________________________\n",
      "Confusion Matrix: \n",
      " [[367  25]\n",
      " [ 45 363]]\n",
      "\n"
     ]
    }
   ],
   "source": [
    "from sklearn.metrics import accuracy_score, confusion_matrix, classification_report\n",
    "from sklearn.model_selection import train_test_split\n",
    "from sklearn.linear_model import LogisticRegression\n",
    "X_train, X_test, y_train, y_test = train_test_split(x_mult, y, test_size=0.2, random_state=0)\n",
    "\n",
    "lr = LogisticRegression()\n",
    "lr.fit(X_train, y_train)\n",
    "pred = lr.predict(X_train)\n",
    "clf_report = pd.DataFrame(classification_report(y_train, pred, output_dict=True))\n",
    "print(\"Train Result:\\n================================================\")\n",
    "print(f\"Accuracy Score: {accuracy_score(y_train, pred) * 100:.2f}%\")\n",
    "print(\"_______________________________________________\")\n",
    "print(f\"CLASSIFICATION REPORT:\\n{clf_report}\")\n",
    "print(\"_______________________________________________\")\n",
    "print(f\"Confusion Matrix: \\n {confusion_matrix(y_train, pred)}\\n\")\n",
    "\n",
    "# выходные данные после обучения модели на обучающей выборке"
   ]
  },
  {
   "cell_type": "code",
   "execution_count": 20,
   "metadata": {
    "colab": {
     "base_uri": "https://localhost:8080/"
    },
    "id": "ieBxwQeScFuh",
    "outputId": "b9ef3577-8640-4815-fe2d-3257215a38ff"
   },
   "outputs": [
    {
     "name": "stdout",
     "output_type": "stream",
     "text": [
      "Test Result:\n",
      "================================================\n",
      "Accuracy Score: 92.00%\n",
      "_______________________________________________\n",
      "CLASSIFICATION REPORT:\n",
      "                    0          1  accuracy   macro avg  weighted avg\n",
      "precision    0.918182   0.922222      0.92    0.920202      0.920040\n",
      "recall       0.935185   0.902174      0.92    0.918680      0.920000\n",
      "f1-score     0.926606   0.912088      0.92    0.919347      0.919927\n",
      "support    108.000000  92.000000      0.92  200.000000    200.000000\n",
      "_______________________________________________\n",
      "Confusion Matrix: \n",
      " [[101   7]\n",
      " [  9  83]]\n",
      "\n"
     ]
    }
   ],
   "source": [
    "pred = lr.predict(X_test)\n",
    "clf_report = pd.DataFrame(classification_report(y_test, pred, output_dict=True))\n",
    "\n",
    "print(\"Test Result:\\n================================================\")\n",
    "print(f\"Accuracy Score: {accuracy_score(y_test, pred) * 100:.2f}%\")\n",
    "print(\"_______________________________________________\")\n",
    "print(f\"CLASSIFICATION REPORT:\\n{clf_report}\")\n",
    "print(\"_______________________________________________\")\n",
    "print(f\"Confusion Matrix: \\n {confusion_matrix(y_test, pred)}\\n\")\n",
    "\n",
    "# результаты модели на тестовой выборке"
   ]
  },
  {
   "cell_type": "markdown",
   "metadata": {
    "id": "d6rVBieaddJm"
   },
   "source": [
    "- Accuracy Score: 92.00% => модель правильно предсказала класс в 92% случаев.\n",
    "- precision показывает точность предсказаний для каждого класса\n",
    "- Recall (полнота). Это доля правильно предсказанных положительных примеров из всех реальных положительных примеров. В среднем по всем классам: 91.87%. Модель хорошо находит как отрицательные, так и положительные примеры, но немного хуже распознает класс 1 (положительный).\n",
    "- F1-Score. Это среднее гармоническое точности и полноты, дающее более сбалансированное представление о модели. В среднем по всем классам: 91.93%. F1-Score показывает хорошее сочетание точности и полноты, с небольшим преимуществом у класса 0."
   ]
  },
  {
   "cell_type": "markdown",
   "metadata": {
    "id": "RRWLojeueT-H"
   },
   "source": [
    "## 7) Сформулируйте общие содержательные выводы по результатам регрессионного анализа данных. Какие результаты анализа данных для вас оказались очевидными, а какие неожиданными?\n",
    "\n",
    "Выводы\n",
    "--\n",
    "- Регрессионный анализ показал, что некоторые предикторы оказывают значительное влияние на вероятность клика по рекламе, в то время как другие — менее значимы. Так, пол человека оказался не важен, а вот возраст, ежедневное использование интернета и доход в районе влияют на клик по рекламе\n",
    "- Модель получилась хорошая, объясняет большой процент данных\n",
    "\n",
    "\n",
    "Неожиданные результаты:\n",
    "--\n",
    "- Пол как предиктор оказался незначимым. Я думала, что мужчины и женщины могут иметь разные паттерны поведения в отношении онлайн-рекламы, но регрессионный анализ показал, что пол не влияет на вероятность кликов.\n",
    "- Результаты для дохода в районе (Area Income) также несколько неожиданны, так как предполагалось, что люди с высоким доходом скорее будут интересоваться онлайн-рекламой, однако анализ показал слабую отрицательную связь.\n",
    "\n",
    "Ожидаемые результаты:\n",
    "--\n",
    "- Чем больше человек пользуется интернетом, тем меньше он кликает на рекламу. Так как люди, которые проводят больше времени в интернете, как правило, имеют обладают развитыми навыками фильтрации контента и могут лучше распознавать рекламу. Они могут быть более осведомлены о маркетинговых тактиках и стремиться избегать нежелательных рекламных материалов.Так же они они могут использовать расширения браузера для блокировки рекламы или предпочитать подписки на платные сервисы, которые предоставляют контент без рекламы.\n",
    "- Возраст. Молодые пользователи обычно более восприимчивы к интернет-рекламе. Молодежь активно использует интернет и социальные сети, часто взаимодействует с рекламой, особенно если она соответствует их интересам. Более зрелые пользователи, как правило, не так активно используют интернет для покупок или развлечений, что может привести к меньшей склонности кликать на рекламу."
   ]
  },
  {
   "cell_type": "markdown",
   "metadata": {
    "id": "xhr6r-fehzxw"
   },
   "source": [
    "Гипотеза H0 подтвердилась - некоторые метрики влияют на вероятность клика по рекламе, а некоторые не влияют"
   ]
  },
  {
   "cell_type": "markdown",
   "metadata": {
    "id": "GR7AwliHe8aH"
   },
   "source": [
    "# Этот файл нужно сохранить как Notebook (.ipynb) и загрузить в Smart LMS до 13:00 27 ноября."
   ]
  }
 ],
 "metadata": {
  "colab": {
   "provenance": []
  },
  "kernelspec": {
   "display_name": "Python 3",
   "language": "python",
   "name": "python3"
  },
  "language_info": {
   "codemirror_mode": {
    "name": "ipython",
    "version": 3
   },
   "file_extension": ".py",
   "mimetype": "text/x-python",
   "name": "python",
   "nbconvert_exporter": "python",
   "pygments_lexer": "ipython3",
   "version": "3.12.4"
  }
 },
 "nbformat": 4,
 "nbformat_minor": 0
}
