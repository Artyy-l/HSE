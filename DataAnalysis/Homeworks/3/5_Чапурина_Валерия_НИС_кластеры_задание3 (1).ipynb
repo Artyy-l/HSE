{
 "cells": [
  {
   "cell_type": "markdown",
   "metadata": {
    "id": "CJc7fC0L_3k8"
   },
   "source": [
    "# Домашее задание №3"
   ]
  },
  {
   "cell_type": "code",
   "execution_count": 1,
   "metadata": {
    "id": "ZwWzEfmtdQ9g"
   },
   "outputs": [],
   "source": [
    "# перед началом выполнения подключим нужные библиотеки\n",
    "\n",
    "import pandas as pd\n",
    "%matplotlib inline\n",
    "import numpy as np\n",
    "import seaborn as sns\n",
    "import matplotlib.pyplot as plt\n",
    "from sklearn.cluster import KMeans, DBSCAN\n",
    "import warnings\n",
    "warnings.filterwarnings(\"ignore\")"
   ]
  },
  {
   "cell_type": "markdown",
   "metadata": {
    "id": "DZHK2GMj_3lA"
   },
   "source": [
    "## Задание 1\n",
    "\n",
    "В файле Worldbank_tech.xlsx содержаться данные Всемирного банка по ряду показателей по странам. В файле следующие переменные:\n",
    "    \n",
    "    - country_name: Country Name\n",
    "    - country_code: Country Code\n",
    "    - internet: Internet users (per 100 people)\n",
    "    - secure: Secure Internet servers (per 1 million people)\n",
    "    - export: Communications, computer, etc. (% of service exports)\n",
    "    - import: Communications, computer, etc. (% of service imports)\n",
    "    - telephone: Fixed telephone subscriptions (per 100 people)\n",
    "    - hightech: High-technology exports (current US$)\n",
    "    - mobile: Mobile cellular subscriptions (per 100 people)\n",
    "    \n",
    "\n",
    "Проведите иерархический кластерный анализ данных с использованием не менее 4-х метрических переменных. Выполните следующие пункты:\n",
    "\n",
    "        1.\tОбоснуйте выбор переменных кластеризации.\n",
    "\n",
    "        2.\tВыберите оптимальный метод иерархической кластеризации и обоснуйте свой выбор.\n",
    "\n",
    "        3.\tСоздайте дендрограмму, опишите её.\n",
    "\n",
    "        4.\tОпределите число кластеров, объясните своё решение.\n",
    "\n",
    "        5.\tОпишите получившиеся кластеры на основе описательной статистки. Нужно не просто рассчитать статистики в таблицах, но детально описать полученные результаты.\n",
    "\n",
    "        6.\tДайте названия кластерам и обоснуйте их.\n",
    "\n",
    "        7.\tПочему получилась именно такая кластерная структура? Полученные результаты соответствуют вашем изначальным предположениям или оказались неожиданными?"
   ]
  },
  {
   "cell_type": "markdown",
   "metadata": {
    "id": "wrQznfGfg6sg"
   },
   "source": [
    "Сначала посмотрим на наши данные"
   ]
  },
  {
   "cell_type": "code",
   "execution_count": 2,
   "metadata": {
    "colab": {
     "base_uri": "https://localhost:8080/",
     "height": 424
    },
    "id": "tPzXgZI1g6RD",
    "outputId": "8cfa4013-b668-4e7f-e5e3-7edf352de42a"
   },
   "outputs": [
    {
     "data": {
      "text/html": [
       "<div>\n",
       "<style scoped>\n",
       "    .dataframe tbody tr th:only-of-type {\n",
       "        vertical-align: middle;\n",
       "    }\n",
       "\n",
       "    .dataframe tbody tr th {\n",
       "        vertical-align: top;\n",
       "    }\n",
       "\n",
       "    .dataframe thead th {\n",
       "        text-align: right;\n",
       "    }\n",
       "</style>\n",
       "<table border=\"1\" class=\"dataframe\">\n",
       "  <thead>\n",
       "    <tr style=\"text-align: right;\">\n",
       "      <th></th>\n",
       "      <th>country_name</th>\n",
       "      <th>country_code</th>\n",
       "      <th>internet</th>\n",
       "      <th>secure</th>\n",
       "      <th>export</th>\n",
       "      <th>import</th>\n",
       "      <th>telephone</th>\n",
       "      <th>hightech</th>\n",
       "      <th>mobile</th>\n",
       "    </tr>\n",
       "  </thead>\n",
       "  <tbody>\n",
       "    <tr>\n",
       "      <th>0</th>\n",
       "      <td>Afghanistan</td>\n",
       "      <td>AFG</td>\n",
       "      <td>8.260000</td>\n",
       "      <td>1.414229</td>\n",
       "      <td>72.652794</td>\n",
       "      <td>9.053154</td>\n",
       "      <td>0.343677</td>\n",
       "      <td>NaN</td>\n",
       "      <td>61.577619</td>\n",
       "    </tr>\n",
       "    <tr>\n",
       "      <th>1</th>\n",
       "      <td>Albania</td>\n",
       "      <td>ALB</td>\n",
       "      <td>63.252933</td>\n",
       "      <td>37.727137</td>\n",
       "      <td>25.303169</td>\n",
       "      <td>11.124101</td>\n",
       "      <td>7.091628</td>\n",
       "      <td>15123662.0</td>\n",
       "      <td>106.380207</td>\n",
       "    </tr>\n",
       "    <tr>\n",
       "      <th>2</th>\n",
       "      <td>Algeria</td>\n",
       "      <td>DZA</td>\n",
       "      <td>38.200000</td>\n",
       "      <td>2.546228</td>\n",
       "      <td>59.256825</td>\n",
       "      <td>58.012028</td>\n",
       "      <td>8.041628</td>\n",
       "      <td>2449466.0</td>\n",
       "      <td>113.031094</td>\n",
       "    </tr>\n",
       "    <tr>\n",
       "      <th>3</th>\n",
       "      <td>American Samoa</td>\n",
       "      <td>ASM</td>\n",
       "      <td>NaN</td>\n",
       "      <td>72.022759</td>\n",
       "      <td>NaN</td>\n",
       "      <td>NaN</td>\n",
       "      <td>18.005690</td>\n",
       "      <td>NaN</td>\n",
       "      <td>NaN</td>\n",
       "    </tr>\n",
       "    <tr>\n",
       "      <th>4</th>\n",
       "      <td>Andorra</td>\n",
       "      <td>ADO</td>\n",
       "      <td>96.910000</td>\n",
       "      <td>1631.830630</td>\n",
       "      <td>NaN</td>\n",
       "      <td>NaN</td>\n",
       "      <td>47.992588</td>\n",
       "      <td>NaN</td>\n",
       "      <td>88.123533</td>\n",
       "    </tr>\n",
       "    <tr>\n",
       "      <th>...</th>\n",
       "      <td>...</td>\n",
       "      <td>...</td>\n",
       "      <td>...</td>\n",
       "      <td>...</td>\n",
       "      <td>...</td>\n",
       "      <td>...</td>\n",
       "      <td>...</td>\n",
       "      <td>...</td>\n",
       "      <td>...</td>\n",
       "    </tr>\n",
       "    <tr>\n",
       "      <th>212</th>\n",
       "      <td>Virgin Islands (U.S.)</td>\n",
       "      <td>VIR</td>\n",
       "      <td>54.839137</td>\n",
       "      <td>453.781837</td>\n",
       "      <td>NaN</td>\n",
       "      <td>NaN</td>\n",
       "      <td>71.090491</td>\n",
       "      <td>NaN</td>\n",
       "      <td>NaN</td>\n",
       "    </tr>\n",
       "    <tr>\n",
       "      <th>213</th>\n",
       "      <td>West Bank and Gaza</td>\n",
       "      <td>WBG</td>\n",
       "      <td>57.424192</td>\n",
       "      <td>5.653368</td>\n",
       "      <td>44.171827</td>\n",
       "      <td>NaN</td>\n",
       "      <td>8.936393</td>\n",
       "      <td>5099724.0</td>\n",
       "      <td>77.624612</td>\n",
       "    </tr>\n",
       "    <tr>\n",
       "      <th>214</th>\n",
       "      <td>Yemen, Rep.</td>\n",
       "      <td>YEM</td>\n",
       "      <td>25.099514</td>\n",
       "      <td>0.633567</td>\n",
       "      <td>56.462032</td>\n",
       "      <td>NaN</td>\n",
       "      <td>4.679835</td>\n",
       "      <td>2946931.0</td>\n",
       "      <td>67.980973</td>\n",
       "    </tr>\n",
       "    <tr>\n",
       "      <th>215</th>\n",
       "      <td>Zambia</td>\n",
       "      <td>ZMB</td>\n",
       "      <td>21.000000</td>\n",
       "      <td>4.317851</td>\n",
       "      <td>8.549899</td>\n",
       "      <td>NaN</td>\n",
       "      <td>0.748505</td>\n",
       "      <td>36503179.0</td>\n",
       "      <td>74.471778</td>\n",
       "    </tr>\n",
       "    <tr>\n",
       "      <th>216</th>\n",
       "      <td>Zimbabwe</td>\n",
       "      <td>ZWE</td>\n",
       "      <td>16.360000</td>\n",
       "      <td>6.601400</td>\n",
       "      <td>31.671984</td>\n",
       "      <td>38.806322</td>\n",
       "      <td>2.217863</td>\n",
       "      <td>10072513.0</td>\n",
       "      <td>84.788804</td>\n",
       "    </tr>\n",
       "  </tbody>\n",
       "</table>\n",
       "<p>217 rows × 9 columns</p>\n",
       "</div>"
      ],
      "text/plain": [
       "              country_name country_code   internet       secure     export  \\\n",
       "0              Afghanistan          AFG   8.260000     1.414229  72.652794   \n",
       "1                  Albania          ALB  63.252933    37.727137  25.303169   \n",
       "2                  Algeria          DZA  38.200000     2.546228  59.256825   \n",
       "3           American Samoa          ASM        NaN    72.022759        NaN   \n",
       "4                  Andorra          ADO  96.910000  1631.830630        NaN   \n",
       "..                     ...          ...        ...          ...        ...   \n",
       "212  Virgin Islands (U.S.)          VIR  54.839137   453.781837        NaN   \n",
       "213     West Bank and Gaza          WBG  57.424192     5.653368  44.171827   \n",
       "214            Yemen, Rep.          YEM  25.099514     0.633567  56.462032   \n",
       "215                 Zambia          ZMB  21.000000     4.317851   8.549899   \n",
       "216               Zimbabwe          ZWE  16.360000     6.601400  31.671984   \n",
       "\n",
       "        import  telephone    hightech      mobile  \n",
       "0     9.053154   0.343677         NaN   61.577619  \n",
       "1    11.124101   7.091628  15123662.0  106.380207  \n",
       "2    58.012028   8.041628   2449466.0  113.031094  \n",
       "3          NaN  18.005690         NaN         NaN  \n",
       "4          NaN  47.992588         NaN   88.123533  \n",
       "..         ...        ...         ...         ...  \n",
       "212        NaN  71.090491         NaN         NaN  \n",
       "213        NaN   8.936393   5099724.0   77.624612  \n",
       "214        NaN   4.679835   2946931.0   67.980973  \n",
       "215        NaN   0.748505  36503179.0   74.471778  \n",
       "216  38.806322   2.217863  10072513.0   84.788804  \n",
       "\n",
       "[217 rows x 9 columns]"
      ]
     },
     "execution_count": 2,
     "metadata": {},
     "output_type": "execute_result"
    }
   ],
   "source": [
    "df1 = pd.read_excel('Worldbank_tech.xlsx')\n",
    "df1"
   ]
  },
  {
   "cell_type": "markdown",
   "metadata": {
    "id": "Snwl4siHh1OO"
   },
   "source": [
    "\n",
    "Нам нужно выбрать 4 переменные для кластеризации, которые будут не сильно коррелировать друг с другом (вообще тут все переменные коррелируют друг с другом). Какие метрические переменные есть? Это:\n",
    "1. internet\n",
    "2. secure\n",
    "3. export\n",
    "4. import\n",
    "5. telephone\n",
    "6. hightech\n",
    "7. mobile\n",
    "\n",
    "Будем кластеризовать по технологическому развитию стран, поэтому рассмотрим такие переменные:\n",
    "1. internet (так как данный показатель демонстрирует количество интернет-пользователей на 100 человек)\n",
    "2. import (так как данный показатель демонстрирует импорт технологической продукции)\n",
    "3. hightech (так как данный показатель демонстрирует экспорт высоких технологий в американских долларах)\n",
    "4. mobile (так как данный показатель демонстрирует количество мобильных подписок на 100 человек)\n",
    "\n",
    "Далее нам нужно проверить данные на корреляцию и стандартизировать шкалы, так как они различаются в исходных данных. Для начала проверим, распределены ли данные нормально, чтобы затем выбрать подходящий критерий для проверки корреляции"
   ]
  },
  {
   "cell_type": "markdown",
   "metadata": {},
   "source": [
    "<font color='red'> вывела бы хитмап корреляций, а то не видно же где ты на что и как смотришь</font>"
   ]
  },
  {
   "cell_type": "code",
   "execution_count": 3,
   "metadata": {
    "colab": {
     "base_uri": "https://localhost:8080/"
    },
    "id": "V2GTBZ_uk7_a",
    "outputId": "9260a7c0-f46e-4a6f-a242-7834027ddd12"
   },
   "outputs": [
    {
     "data": {
      "text/plain": [
       "(202,)"
      ]
     },
     "execution_count": 3,
     "metadata": {},
     "output_type": "execute_result"
    }
   ],
   "source": [
    "# импортируем, чтобы потом делать проверку на нормальность\n",
    "from scipy import stats\n",
    "\n",
    "# количество значений\n",
    "df1['internet'].dropna().shape"
   ]
  },
  {
   "cell_type": "code",
   "execution_count": 4,
   "metadata": {
    "colab": {
     "base_uri": "https://localhost:8080/"
    },
    "id": "I7XC8pGOlniV",
    "outputId": "ea529404-f3bd-46a8-fc47-afe75c278eec"
   },
   "outputs": [
    {
     "data": {
      "text/plain": [
       "(198,)"
      ]
     },
     "execution_count": 4,
     "metadata": {},
     "output_type": "execute_result"
    }
   ],
   "source": [
    "# количество уникальных значений\n",
    "df1['internet'].dropna().unique().shape"
   ]
  },
  {
   "cell_type": "markdown",
   "metadata": {
    "id": "Wjd-wzGcl4Dq"
   },
   "source": [
    "Так как количесто not-null значений больше 50, то воспользуемся критерием Колмогорова-Смирнова для проверки нормальности распределения"
   ]
  },
  {
   "cell_type": "code",
   "execution_count": 5,
   "metadata": {
    "colab": {
     "base_uri": "https://localhost:8080/"
    },
    "id": "io7pFwc8l0-t",
    "outputId": "2ebe73ba-2263-4256-f180-fbd66d04f210"
   },
   "outputs": [
    {
     "data": {
      "text/plain": [
       "KstestResult(statistic=0.1088666685546969, pvalue=0.01537154227089266, statistic_location=22.351404582536, statistic_sign=1)"
      ]
     },
     "execution_count": 5,
     "metadata": {},
     "output_type": "execute_result"
    }
   ],
   "source": [
    "# H0 - значения столбца internet распределены нормально\n",
    "stats.kstest(df1['internet'].dropna(), 'norm', args=(df1['internet'].mean(), df1['internet'].std()))\n",
    "# pvalue < 0.05 => H0 опровергнут => значения столбца internet не распределены нормально"
   ]
  },
  {
   "cell_type": "code",
   "execution_count": 6,
   "metadata": {
    "colab": {
     "base_uri": "https://localhost:8080/"
    },
    "id": "8Ea9u5fBncsY",
    "outputId": "673c4453-e0fa-4dfc-c8f0-af2804dbff73"
   },
   "outputs": [
    {
     "data": {
      "text/plain": [
       "(123,)"
      ]
     },
     "execution_count": 6,
     "metadata": {},
     "output_type": "execute_result"
    }
   ],
   "source": [
    "# количество значений\n",
    "df1['import'].dropna().shape"
   ]
  },
  {
   "cell_type": "code",
   "execution_count": 7,
   "metadata": {
    "colab": {
     "base_uri": "https://localhost:8080/"
    },
    "id": "zVNqTwmLnmdi",
    "outputId": "ff3e4fee-1894-4e86-ea96-3ccaa1ac2c0e"
   },
   "outputs": [
    {
     "data": {
      "text/plain": [
       "(123,)"
      ]
     },
     "execution_count": 7,
     "metadata": {},
     "output_type": "execute_result"
    }
   ],
   "source": [
    "# Количество уникальных значений\n",
    "df1['import'].dropna().unique().shape"
   ]
  },
  {
   "cell_type": "markdown",
   "metadata": {
    "id": "mjGc1gVVnxKU"
   },
   "source": [
    "Так как количесто not-null значений больше 50, то воспользуемся критерием Колмогорова-Смирнова для проверки нормальности распределения"
   ]
  },
  {
   "cell_type": "code",
   "execution_count": 8,
   "metadata": {
    "colab": {
     "base_uri": "https://localhost:8080/"
    },
    "id": "qeEoBFE5nyeJ",
    "outputId": "e8e5fd59-ea9d-444b-9763-ae1d3a78fec7"
   },
   "outputs": [
    {
     "data": {
      "text/plain": [
       "KstestResult(statistic=0.04525457990092588, pvalue=0.9528462567028891, statistic_location=22.56203597722612, statistic_sign=1)"
      ]
     },
     "execution_count": 8,
     "metadata": {},
     "output_type": "execute_result"
    }
   ],
   "source": [
    "# H0 - значения столбца import распределены нормально\n",
    "stats.kstest(df1['import'].dropna(), 'norm', args=(df1['import'].mean(), df1['import'].std()))\n",
    "# pvalue > 0.05 => H0 подтверждён => значения столбца import распределены нормально"
   ]
  },
  {
   "cell_type": "code",
   "execution_count": 9,
   "metadata": {
    "colab": {
     "base_uri": "https://localhost:8080/"
    },
    "id": "xXPwx9Uln903",
    "outputId": "074713dc-d29d-4d6b-d196-06e91852d87e"
   },
   "outputs": [
    {
     "data": {
      "text/plain": [
       "(135,)"
      ]
     },
     "execution_count": 9,
     "metadata": {},
     "output_type": "execute_result"
    }
   ],
   "source": [
    "# количество значений\n",
    "df1['hightech'].dropna().shape"
   ]
  },
  {
   "cell_type": "code",
   "execution_count": 10,
   "metadata": {
    "colab": {
     "base_uri": "https://localhost:8080/"
    },
    "id": "e89ROkhOoD-5",
    "outputId": "d5091344-e818-4bbd-fb65-49c48c5fbe2c"
   },
   "outputs": [
    {
     "data": {
      "text/plain": [
       "(131,)"
      ]
     },
     "execution_count": 10,
     "metadata": {},
     "output_type": "execute_result"
    }
   ],
   "source": [
    "# Количество уникальных значений\n",
    "df1['hightech'].dropna().unique().shape"
   ]
  },
  {
   "cell_type": "markdown",
   "metadata": {
    "id": "885Zrk-EoKtW"
   },
   "source": [
    "Так как количесто not-null значений больше 50, то воспользуемся критерием Колмогорова-Смирнова для проверки нормальности распределения"
   ]
  },
  {
   "cell_type": "code",
   "execution_count": 11,
   "metadata": {
    "colab": {
     "base_uri": "https://localhost:8080/"
    },
    "id": "aoTAW5ZooL5H",
    "outputId": "25576454-5f0a-4f68-afdf-95740d74e1c6"
   },
   "outputs": [
    {
     "data": {
      "text/plain": [
       "KstestResult(statistic=0.3940985318749621, pvalue=2.0663807688315873e-19, statistic_location=0.0, statistic_sign=-1)"
      ]
     },
     "execution_count": 11,
     "metadata": {},
     "output_type": "execute_result"
    }
   ],
   "source": [
    "# H0 - значения столбца hightech распределены нормально\n",
    "stats.kstest(df1['hightech'].dropna(), 'norm', args=(df1['hightech'].mean(), df1['hightech'].std()))\n",
    "# pvalue < 0.05 => H0 опровергнут => значения столбца hightech не распределены нормально"
   ]
  },
  {
   "cell_type": "code",
   "execution_count": 12,
   "metadata": {
    "colab": {
     "base_uri": "https://localhost:8080/"
    },
    "id": "aPcgWvuRoTy9",
    "outputId": "35bfd877-8208-4b8f-9c56-651fe454fc67"
   },
   "outputs": [
    {
     "data": {
      "text/plain": [
       "(204,)"
      ]
     },
     "execution_count": 12,
     "metadata": {},
     "output_type": "execute_result"
    }
   ],
   "source": [
    "# количество значений\n",
    "df1['mobile'].dropna().shape"
   ]
  },
  {
   "cell_type": "code",
   "execution_count": 13,
   "metadata": {
    "colab": {
     "base_uri": "https://localhost:8080/"
    },
    "id": "BlPrFEUrocjB",
    "outputId": "77b4a8a7-61a5-4635-e6eb-ca55aaf2ebba"
   },
   "outputs": [
    {
     "data": {
      "text/plain": [
       "(204,)"
      ]
     },
     "execution_count": 13,
     "metadata": {},
     "output_type": "execute_result"
    }
   ],
   "source": [
    "# Количество уникальных значений\n",
    "df1['mobile'].dropna().unique().shape"
   ]
  },
  {
   "cell_type": "markdown",
   "metadata": {
    "id": "L1d9bO6TohlL"
   },
   "source": [
    "Так как количесто not-null значений больше 50, то воспользуемся критерием Колмогорова-Смирнова для проверки нормальности распределения"
   ]
  },
  {
   "cell_type": "code",
   "execution_count": 14,
   "metadata": {
    "colab": {
     "base_uri": "https://localhost:8080/"
    },
    "id": "_ReTlzWiokwK",
    "outputId": "b964751e-a406-4f9b-eeb9-8ac2ceca9ef4"
   },
   "outputs": [
    {
     "data": {
      "text/plain": [
       "KstestResult(statistic=0.06074503358473482, pvalue=0.4222850957424237, statistic_location=133.467550086318, statistic_sign=1)"
      ]
     },
     "execution_count": 14,
     "metadata": {},
     "output_type": "execute_result"
    }
   ],
   "source": [
    "# H0 - значения столбца mobile распределены нормально\n",
    "stats.kstest(df1['mobile'].dropna(), 'norm', args=(df1['mobile'].mean(), df1['mobile'].std()))\n",
    "# pvalue >= 0.05 => H0 подтверждён => значения столбца mobile распределены нормально"
   ]
  },
  {
   "cell_type": "markdown",
   "metadata": {},
   "source": [
    "<font color='red'> сделала бы это все в цикле, че тут куча ячеек одинаковых, тяжело читать</font>"
   ]
  },
  {
   "cell_type": "markdown",
   "metadata": {
    "id": "Xoaqnr9LoyyF"
   },
   "source": [
    "У всех переменных большинство данных уникально, при этом mobile и import распределены нормально, поэтому для проверки корреляций с ними воспользуемся критерием Пирсона, в остальных случаях воспользуемся критерием Спирмена"
   ]
  },
  {
   "cell_type": "code",
   "execution_count": 15,
   "metadata": {
    "id": "9g5vt-_EpcHy"
   },
   "outputs": [],
   "source": [
    "# Почистим None\n",
    "df1 = df1.dropna(subset=['internet', 'import', 'mobile', 'hightech'])"
   ]
  },
  {
   "cell_type": "code",
   "execution_count": 16,
   "metadata": {
    "colab": {
     "base_uri": "https://localhost:8080/"
    },
    "id": "zRiS5--gpuNO",
    "outputId": "6aedbe5b-d46d-48b4-91f6-5b38fffb5a65"
   },
   "outputs": [
    {
     "data": {
      "text/plain": [
       "PearsonRResult(statistic=0.11148719872137469, pvalue=0.2719318718989761)"
      ]
     },
     "execution_count": 16,
     "metadata": {},
     "output_type": "execute_result"
    }
   ],
   "source": [
    "# Пара import, mobile\n",
    "stats.pearsonr(df1['import'], df1['mobile'])\n",
    "# pvalue > 0.05 => корреляции нет"
   ]
  },
  {
   "cell_type": "code",
   "execution_count": 17,
   "metadata": {
    "colab": {
     "base_uri": "https://localhost:8080/"
    },
    "id": "BWDSQ_Rdp1N8",
    "outputId": "33032f3c-ac84-4ad3-8727-72a691c283a7"
   },
   "outputs": [
    {
     "data": {
      "text/plain": [
       "SignificanceResult(statistic=0.4243501815182046, pvalue=1.2014221126659732e-05)"
      ]
     },
     "execution_count": 17,
     "metadata": {},
     "output_type": "execute_result"
    }
   ],
   "source": [
    "# Пара import, internet\n",
    "stats.spearmanr(df1['import'], df1['internet'])\n",
    "# pvalue < 0.05, statistic = 0.42 < 0.7 => Корреляция есть, но не сильная => соотвествует критерию"
   ]
  },
  {
   "cell_type": "code",
   "execution_count": 18,
   "metadata": {
    "colab": {
     "base_uri": "https://localhost:8080/"
    },
    "id": "GtxXWnCep4L6",
    "outputId": "39efa055-d8d7-4b3f-86ca-c7664b61a08c"
   },
   "outputs": [
    {
     "data": {
      "text/plain": [
       "SignificanceResult(statistic=0.5388968255543788, pvalue=8.702832908459124e-09)"
      ]
     },
     "execution_count": 18,
     "metadata": {},
     "output_type": "execute_result"
    }
   ],
   "source": [
    "# Пара internet, hightech\n",
    "stats.spearmanr(df1['internet'], df1['hightech'])\n",
    "# pvalue < 0.05, statistic = 0.54 < 0.7 => Корреляция есть, но не сильная => соотвествует критерию"
   ]
  },
  {
   "cell_type": "code",
   "execution_count": 19,
   "metadata": {
    "colab": {
     "base_uri": "https://localhost:8080/"
    },
    "id": "iEtOImO0p9KL",
    "outputId": "a3a137e8-8b92-4eee-99e4-a2d5241fca52"
   },
   "outputs": [
    {
     "data": {
      "text/plain": [
       "SignificanceResult(statistic=0.3178560164316593, pvalue=0.0013457727615147832)"
      ]
     },
     "execution_count": 19,
     "metadata": {},
     "output_type": "execute_result"
    }
   ],
   "source": [
    "# Пара internet, mobile\n",
    "stats.spearmanr(df1['internet'], df1['mobile'])\n",
    "# pvalue < 0.05, statistic = 0.32 < 0.7 => Корреляция есть, но не сильная => соотвествует критерию"
   ]
  },
  {
   "cell_type": "code",
   "execution_count": 20,
   "metadata": {
    "colab": {
     "base_uri": "https://localhost:8080/"
    },
    "id": "PuxmA6CpqAbR",
    "outputId": "6475ff34-6c57-40b5-8575-2cd4079d9073"
   },
   "outputs": [
    {
     "data": {
      "text/plain": [
       "SignificanceResult(statistic=0.3237269477915874, pvalue=0.001080722894099353)"
      ]
     },
     "execution_count": 20,
     "metadata": {},
     "output_type": "execute_result"
    }
   ],
   "source": [
    "# Пара import, hightech\n",
    "stats.spearmanr(df1['import'], df1['hightech'])\n",
    "# pvalue < 0.05, statistic = 0.32 < 0.7 => Корреляция есть, но не сильная => соотвествует критерию"
   ]
  },
  {
   "cell_type": "code",
   "execution_count": 21,
   "metadata": {
    "colab": {
     "base_uri": "https://localhost:8080/"
    },
    "id": "30hdBllYqEDD",
    "outputId": "089ff7a5-bdd4-48c6-c216-40a56b00986b"
   },
   "outputs": [
    {
     "data": {
      "text/plain": [
       "SignificanceResult(statistic=0.25581021412240135, pvalue=0.01059967452331214)"
      ]
     },
     "execution_count": 21,
     "metadata": {},
     "output_type": "execute_result"
    }
   ],
   "source": [
    "# Пара hightech, mobile\n",
    "stats.spearmanr(df1['hightech'], df1['mobile'])\n",
    "# pvalue < 0.05, statistic = 0.26 < 0.7 => Корреляция есть, но не сильная => соотвествует критерию"
   ]
  },
  {
   "cell_type": "markdown",
   "metadata": {},
   "source": [
    "<font color='red'> ну вообще пара ```internet-hightech``` как-то сильновато коррелирует, там есть и поменьше + надо корреляцию всех со всеми смотреть </font>"
   ]
  },
  {
   "cell_type": "markdown",
   "metadata": {
    "id": "OMeW0g_SqcMj"
   },
   "source": [
    "Ура, значит выбранные переменные подойдут нам для кластеризации!"
   ]
  },
  {
   "cell_type": "code",
   "execution_count": 22,
   "metadata": {
    "id": "zQVrN5jaqhJT"
   },
   "outputs": [],
   "source": [
    "# И выполним стандартизацию шкал напоследок\n",
    "df1['internet'] = (df1['internet'] - df1['internet'].mean()) / (df1['internet'].std())\n",
    "df1['import'] = (df1['import'] - df1['import'].mean()) / (df1['import'].std())\n",
    "df1['hightech'] = (df1['hightech'] - df1['hightech'].mean()) / (df1['hightech'].std())\n",
    "df1['mobile'] = (df1['mobile'] - df1['mobile'].mean()) / (df1['mobile'].std())"
   ]
  },
  {
   "cell_type": "markdown",
   "metadata": {
    "id": "bQf_2OQBrQvw"
   },
   "source": [
    "### Выберем подходящий метод для кластеризации\n",
    "Существуют следующие методы:\n",
    "1. Ближайший сосед\n",
    "2. Дальний сосед\n",
    "3. Межгрупповые связи\n",
    "4. Центроидная кластеризация\n",
    "5. Метод Варда\n",
    "\n",
    "Чтобы выбрать наиболее подходящий, построим дендрограмму для каждого"
   ]
  },
  {
   "cell_type": "code",
   "execution_count": 23,
   "metadata": {
    "colab": {
     "base_uri": "https://localhost:8080/",
     "height": 440
    },
    "id": "CZXoQPJyrvCN",
    "outputId": "90a1682b-c31c-4e80-a09c-d1c238122e40"
   },
   "outputs": [
    {
     "data": {
      "image/png": "[encoded data removed]",
      "text/plain": [
       "<Figure size 1500x500 with 1 Axes>"
      ]
     },
     "metadata": {},
     "output_type": "display_data"
    }
   ],
   "source": [
    "from scipy.cluster.hierarchy import dendrogram, linkage, fcluster\n",
    "# 1. Ближайший сосед\n",
    "plt.figure(figsize=(15, 5))\n",
    "dn = dendrogram(linkage(df1[['internet', 'import', 'hightech', 'mobile']], 'single'))\n",
    "# цепочки => не подходит"
   ]
  },
  {
   "cell_type": "code",
   "execution_count": 24,
   "metadata": {
    "colab": {
     "base_uri": "https://localhost:8080/",
     "height": 440
    },
    "id": "DegD7ySwsaAn",
    "outputId": "79e919c8-1a70-442b-b439-3ccbd242cbec"
   },
   "outputs": [
    {
     "data": {
      "image/png": "[encoded data removed]",
      "text/plain": [
       "<Figure size 1500x500 with 1 Axes>"
      ]
     },
     "metadata": {},
     "output_type": "display_data"
    }
   ],
   "source": [
    "# 2. Дальние связи\n",
    "plt.figure(figsize=(15, 5))\n",
    "dn = dendrogram(linkage(df1[['internet', 'import', 'hightech', 'mobile']], 'complete'))\n",
    "# цепочек нет, что хорошо"
   ]
  },
  {
   "cell_type": "code",
   "execution_count": 25,
   "metadata": {
    "colab": {
     "base_uri": "https://localhost:8080/",
     "height": 440
    },
    "id": "sBZ2hrkIspdE",
    "outputId": "5452ce26-f3bb-47a5-c324-2ed55f01da49"
   },
   "outputs": [
    {
     "data": {
      "image/png": "[encoded data removed]",
      "text/plain": [
       "<Figure size 1500x500 with 1 Axes>"
      ]
     },
     "metadata": {},
     "output_type": "display_data"
    }
   ],
   "source": [
    "# 3. Межгрупповые связи\n",
    "plt.figure(figsize=(15, 5))\n",
    "dn = dendrogram(linkage(df1[['internet', 'import', 'hightech', 'mobile']], 'average'))\n",
    "# цепочек больше, чем в варианте 2, поэтому такой не будем брать"
   ]
  },
  {
   "cell_type": "code",
   "execution_count": 26,
   "metadata": {
    "colab": {
     "base_uri": "https://localhost:8080/",
     "height": 440
    },
    "id": "0IXqopCOs1Md",
    "outputId": "f308f791-f5aa-4ff2-a003-ab72a2368089"
   },
   "outputs": [
    {
     "data": {
      "image/png": "[encoded data removed]",
      "text/plain": [
       "<Figure size 1500x500 with 1 Axes>"
      ]
     },
     "metadata": {},
     "output_type": "display_data"
    }
   ],
   "source": [
    "# 4. Центроидная кластеризация\n",
    "plt.figure(figsize=(15, 5))\n",
    "dn = dendrogram(linkage(df1[['internet', 'import', 'hightech', 'mobile']], 'centroid'))\n",
    "# и тут тоже больше цепочек, не будем брать"
   ]
  },
  {
   "cell_type": "code",
   "execution_count": 27,
   "metadata": {
    "colab": {
     "base_uri": "https://localhost:8080/",
     "height": 443
    },
    "id": "MYz0vPU0s_7W",
    "outputId": "2a6dc187-daf1-45cf-a627-bcd08a7baec5"
   },
   "outputs": [
    {
     "data": {
      "image/png": "[encoded data removed]",
      "text/plain": [
       "<Figure size 1500x500 with 1 Axes>"
      ]
     },
     "metadata": {},
     "output_type": "display_data"
    }
   ],
   "source": [
    "# 5. Метод Варда\n",
    "plt.figure(figsize=(15, 5))\n",
    "dn = dendrogram(linkage(df1[['internet', 'import', 'hightech', 'mobile']], 'ward'))\n",
    "# цепочек меньше всего + больше показательных кластеров, поэтому выберем этот метод"
   ]
  },
  {
   "cell_type": "markdown",
   "metadata": {
    "id": "URayTSbltexw"
   },
   "source": [
    "При этом на всех диаграммах видно, что 20-й объект является выбросом, тогда его уберём из рассмотрения и ещё раз построим дендрограмму"
   ]
  },
  {
   "cell_type": "code",
   "execution_count": 28,
   "metadata": {
    "colab": {
     "base_uri": "https://localhost:8080/",
     "height": 444
    },
    "id": "8UsONOEbtsOk",
    "outputId": "a2c3082b-76d2-4cd1-b47d-1a62af46d0ed"
   },
   "outputs": [
    {
     "data": {
      "image/png": "[encoded data removed]",
      "text/plain": [
       "<Figure size 1500x500 with 1 Axes>"
      ]
     },
     "metadata": {},
     "output_type": "display_data"
    }
   ],
   "source": [
    "df1 = df1.drop(index=df1.index[20])\n",
    "plt.figure(figsize=(15, 5))\n",
    "dn = dendrogram(linkage(df1[['internet', 'import', 'hightech', 'mobile']], 'ward'))"
   ]
  },
  {
   "cell_type": "markdown",
   "metadata": {
    "id": "BlH9c5pBt8sJ"
   },
   "source": [
    "### Число кластеров\n",
    "При помощи цикла найдём оптимальное число кластеров при помощи индекса Калински-Харабаша. Для каждого количества посчитаем его и выберем тот вариант, где значение максимально"
   ]
  },
  {
   "cell_type": "code",
   "execution_count": 29,
   "metadata": {
    "colab": {
     "base_uri": "https://localhost:8080/"
    },
    "id": "X8w6a0oXuY6s",
    "outputId": "b0364cdb-d328-4289-f461-1eb82f3f82ec"
   },
   "outputs": [
    {
     "name": "stdout",
     "output_type": "stream",
     "text": [
      "Число кластеров: 2, индекс 55.622669615536495\n",
      "Число кластеров: 3, индекс 45.52032799534326\n",
      "Число кластеров: 4, индекс 40.355040771143855\n",
      "Число кластеров: 5, индекс 39.52535748960404\n",
      "Число кластеров: 6, индекс 37.28539881830661\n",
      "Число кластеров: 7, индекс 36.99366165166571\n",
      "Число кластеров: 8, индекс 36.01786198426849\n",
      "Число кластеров: 9, индекс 36.076237938553234\n",
      "Число кластеров: 10, индекс 36.87639949233261\n",
      "Число кластеров: 11, индекс 36.76780171937693\n",
      "Число кластеров: 12, индекс 37.2421452823359\n",
      "Число кластеров: 13, индекс 37.51942909565915\n",
      "Число кластеров: 14, индекс 37.57241515928464\n",
      "Число кластеров: 15, индекс 37.11601252020398\n",
      "Число кластеров: 16, индекс 36.498460700590236\n",
      "Число кластеров: 17, индекс 36.03483737854801\n",
      "Число кластеров: 18, индекс 35.818900715331864\n",
      "Число кластеров: 19, индекс 35.83162135718718\n"
     ]
    }
   ],
   "source": [
    "from sklearn.metrics import calinski_harabasz_score\n",
    "variants = linkage(df1[['internet', 'import', 'hightech', 'mobile']], method='ward', metric='euclidean')\n",
    "for k in range (2, 20):\n",
    "    labels = fcluster(variants, t=k, criterion='maxclust')\n",
    "    print('Число кластеров: {}, индекс {}'.format(k, calinski_harabasz_score(df1[['internet', 'import', 'hightech', 'mobile']], labels)))"
   ]
  },
  {
   "cell_type": "markdown",
   "metadata": {
    "id": "e762pH8Xupt2"
   },
   "source": [
    "Видим, что оптимальный вариант - 2 кластера. Тогда разобьём наши данные по кластерам, добавив соответствующий столбец"
   ]
  },
  {
   "cell_type": "code",
   "execution_count": 30,
   "metadata": {
    "colab": {
     "base_uri": "https://localhost:8080/",
     "height": 424
    },
    "id": "miB_r0Osu7gU",
    "outputId": "460dee81-4e0b-4a55-8ac6-729f2084dbfa"
   },
   "outputs": [
    {
     "data": {
      "text/html": [
       "<div>\n",
       "<style scoped>\n",
       "    .dataframe tbody tr th:only-of-type {\n",
       "        vertical-align: middle;\n",
       "    }\n",
       "\n",
       "    .dataframe tbody tr th {\n",
       "        vertical-align: top;\n",
       "    }\n",
       "\n",
       "    .dataframe thead th {\n",
       "        text-align: right;\n",
       "    }\n",
       "</style>\n",
       "<table border=\"1\" class=\"dataframe\">\n",
       "  <thead>\n",
       "    <tr style=\"text-align: right;\">\n",
       "      <th></th>\n",
       "      <th>country_name</th>\n",
       "      <th>country_code</th>\n",
       "      <th>internet</th>\n",
       "      <th>secure</th>\n",
       "      <th>export</th>\n",
       "      <th>import</th>\n",
       "      <th>telephone</th>\n",
       "      <th>hightech</th>\n",
       "      <th>mobile</th>\n",
       "      <th>cluster_id</th>\n",
       "    </tr>\n",
       "  </thead>\n",
       "  <tbody>\n",
       "    <tr>\n",
       "      <th>1</th>\n",
       "      <td>Albania</td>\n",
       "      <td>ALB</td>\n",
       "      <td>0.068008</td>\n",
       "      <td>37.727137</td>\n",
       "      <td>25.303169</td>\n",
       "      <td>-1.732156</td>\n",
       "      <td>7.091628</td>\n",
       "      <td>-0.313982</td>\n",
       "      <td>-0.426680</td>\n",
       "      <td>1</td>\n",
       "    </tr>\n",
       "    <tr>\n",
       "      <th>2</th>\n",
       "      <td>Algeria</td>\n",
       "      <td>DZA</td>\n",
       "      <td>-0.960472</td>\n",
       "      <td>2.546228</td>\n",
       "      <td>59.256825</td>\n",
       "      <td>1.297832</td>\n",
       "      <td>8.041628</td>\n",
       "      <td>-0.314180</td>\n",
       "      <td>-0.209118</td>\n",
       "      <td>2</td>\n",
       "    </tr>\n",
       "    <tr>\n",
       "      <th>7</th>\n",
       "      <td>Argentina</td>\n",
       "      <td>ARG</td>\n",
       "      <td>0.320397</td>\n",
       "      <td>63.293537</td>\n",
       "      <td>49.760189</td>\n",
       "      <td>-0.001197</td>\n",
       "      <td>24.006501</td>\n",
       "      <td>-0.291696</td>\n",
       "      <td>0.800910</td>\n",
       "      <td>2</td>\n",
       "    </tr>\n",
       "    <tr>\n",
       "      <th>8</th>\n",
       "      <td>Armenia</td>\n",
       "      <td>ARM</td>\n",
       "      <td>-0.137401</td>\n",
       "      <td>49.043779</td>\n",
       "      <td>25.748135</td>\n",
       "      <td>-1.672538</td>\n",
       "      <td>18.443622</td>\n",
       "      <td>-0.314046</td>\n",
       "      <td>-0.139952</td>\n",
       "      <td>1</td>\n",
       "    </tr>\n",
       "    <tr>\n",
       "      <th>9</th>\n",
       "      <td>Aruba</td>\n",
       "      <td>ABW</td>\n",
       "      <td>1.111076</td>\n",
       "      <td>279.144086</td>\n",
       "      <td>14.764849</td>\n",
       "      <td>0.396284</td>\n",
       "      <td>33.689804</td>\n",
       "      <td>-0.314200</td>\n",
       "      <td>0.533132</td>\n",
       "      <td>2</td>\n",
       "    </tr>\n",
       "    <tr>\n",
       "      <th>...</th>\n",
       "      <td>...</td>\n",
       "      <td>...</td>\n",
       "      <td>...</td>\n",
       "      <td>...</td>\n",
       "      <td>...</td>\n",
       "      <td>...</td>\n",
       "      <td>...</td>\n",
       "      <td>...</td>\n",
       "      <td>...</td>\n",
       "      <td>...</td>\n",
       "    </tr>\n",
       "    <tr>\n",
       "      <th>203</th>\n",
       "      <td>Ukraine</td>\n",
       "      <td>UKR</td>\n",
       "      <td>-0.506434</td>\n",
       "      <td>65.467209</td>\n",
       "      <td>46.889568</td>\n",
       "      <td>-0.431394</td>\n",
       "      <td>21.615455</td>\n",
       "      <td>-0.292564</td>\n",
       "      <td>0.804684</td>\n",
       "      <td>2</td>\n",
       "    </tr>\n",
       "    <tr>\n",
       "      <th>205</th>\n",
       "      <td>United Kingdom</td>\n",
       "      <td>GBR</td>\n",
       "      <td>1.248153</td>\n",
       "      <td>1382.567461</td>\n",
       "      <td>47.854272</td>\n",
       "      <td>0.629975</td>\n",
       "      <td>52.648762</td>\n",
       "      <td>0.769674</td>\n",
       "      <td>0.206966</td>\n",
       "      <td>2</td>\n",
       "    </tr>\n",
       "    <tr>\n",
       "      <th>206</th>\n",
       "      <td>United States</td>\n",
       "      <td>USA</td>\n",
       "      <td>0.531778</td>\n",
       "      <td>1649.900277</td>\n",
       "      <td>45.216431</td>\n",
       "      <td>0.270570</td>\n",
       "      <td>37.520957</td>\n",
       "      <td>2.095889</td>\n",
       "      <td>-0.060095</td>\n",
       "      <td>2</td>\n",
       "    </tr>\n",
       "    <tr>\n",
       "      <th>207</th>\n",
       "      <td>Uruguay</td>\n",
       "      <td>URY</td>\n",
       "      <td>0.123308</td>\n",
       "      <td>106.657186</td>\n",
       "      <td>25.607852</td>\n",
       "      <td>-1.062826</td>\n",
       "      <td>32.257492</td>\n",
       "      <td>-0.310063</td>\n",
       "      <td>1.334170</td>\n",
       "      <td>2</td>\n",
       "    </tr>\n",
       "    <tr>\n",
       "      <th>216</th>\n",
       "      <td>Zimbabwe</td>\n",
       "      <td>ZWE</td>\n",
       "      <td>-1.857053</td>\n",
       "      <td>6.601400</td>\n",
       "      <td>31.671984</td>\n",
       "      <td>0.056723</td>\n",
       "      <td>2.217863</td>\n",
       "      <td>-0.314061</td>\n",
       "      <td>-1.132971</td>\n",
       "      <td>1</td>\n",
       "    </tr>\n",
       "  </tbody>\n",
       "</table>\n",
       "<p>98 rows × 10 columns</p>\n",
       "</div>"
      ],
      "text/plain": [
       "       country_name country_code  internet       secure     export    import  \\\n",
       "1           Albania          ALB  0.068008    37.727137  25.303169 -1.732156   \n",
       "2           Algeria          DZA -0.960472     2.546228  59.256825  1.297832   \n",
       "7         Argentina          ARG  0.320397    63.293537  49.760189 -0.001197   \n",
       "8           Armenia          ARM -0.137401    49.043779  25.748135 -1.672538   \n",
       "9             Aruba          ABW  1.111076   279.144086  14.764849  0.396284   \n",
       "..              ...          ...       ...          ...        ...       ...   \n",
       "203         Ukraine          UKR -0.506434    65.467209  46.889568 -0.431394   \n",
       "205  United Kingdom          GBR  1.248153  1382.567461  47.854272  0.629975   \n",
       "206   United States          USA  0.531778  1649.900277  45.216431  0.270570   \n",
       "207         Uruguay          URY  0.123308   106.657186  25.607852 -1.062826   \n",
       "216        Zimbabwe          ZWE -1.857053     6.601400  31.671984  0.056723   \n",
       "\n",
       "     telephone  hightech    mobile  cluster_id  \n",
       "1     7.091628 -0.313982 -0.426680           1  \n",
       "2     8.041628 -0.314180 -0.209118           2  \n",
       "7    24.006501 -0.291696  0.800910           2  \n",
       "8    18.443622 -0.314046 -0.139952           1  \n",
       "9    33.689804 -0.314200  0.533132           2  \n",
       "..         ...       ...       ...         ...  \n",
       "203  21.615455 -0.292564  0.804684           2  \n",
       "205  52.648762  0.769674  0.206966           2  \n",
       "206  37.520957  2.095889 -0.060095           2  \n",
       "207  32.257492 -0.310063  1.334170           2  \n",
       "216   2.217863 -0.314061 -1.132971           1  \n",
       "\n",
       "[98 rows x 10 columns]"
      ]
     },
     "execution_count": 30,
     "metadata": {},
     "output_type": "execute_result"
    }
   ],
   "source": [
    "df1['cluster_id'] = fcluster(variants, t=2, criterion='maxclust')\n",
    "df1"
   ]
  },
  {
   "cell_type": "markdown",
   "metadata": {
    "id": "W0Fm8X4uvOfs"
   },
   "source": [
    "### Описательная статистика"
   ]
  },
  {
   "cell_type": "code",
   "execution_count": 31,
   "metadata": {
    "colab": {
     "base_uri": "https://localhost:8080/",
     "height": 143
    },
    "id": "jNO333BovRsP",
    "outputId": "cf9d2190-57ef-49d4-f590-2d5ffbc992d8"
   },
   "outputs": [
    {
     "data": {
      "text/html": [
       "<div>\n",
       "<style scoped>\n",
       "    .dataframe tbody tr th:only-of-type {\n",
       "        vertical-align: middle;\n",
       "    }\n",
       "\n",
       "    .dataframe tbody tr th {\n",
       "        vertical-align: top;\n",
       "    }\n",
       "\n",
       "    .dataframe thead th {\n",
       "        text-align: right;\n",
       "    }\n",
       "</style>\n",
       "<table border=\"1\" class=\"dataframe\">\n",
       "  <thead>\n",
       "    <tr style=\"text-align: right;\">\n",
       "      <th></th>\n",
       "      <th>internet</th>\n",
       "      <th>import</th>\n",
       "      <th>hightech</th>\n",
       "      <th>mobile</th>\n",
       "    </tr>\n",
       "    <tr>\n",
       "      <th>cluster_id</th>\n",
       "      <th></th>\n",
       "      <th></th>\n",
       "      <th></th>\n",
       "      <th></th>\n",
       "    </tr>\n",
       "  </thead>\n",
       "  <tbody>\n",
       "    <tr>\n",
       "      <th>1</th>\n",
       "      <td>-1.001169</td>\n",
       "      <td>-0.835009</td>\n",
       "      <td>-0.261056</td>\n",
       "      <td>-0.761256</td>\n",
       "    </tr>\n",
       "    <tr>\n",
       "      <th>2</th>\n",
       "      <td>0.515420</td>\n",
       "      <td>0.442742</td>\n",
       "      <td>0.004224</td>\n",
       "      <td>0.399701</td>\n",
       "    </tr>\n",
       "  </tbody>\n",
       "</table>\n",
       "</div>"
      ],
      "text/plain": [
       "            internet    import  hightech    mobile\n",
       "cluster_id                                        \n",
       "1          -1.001169 -0.835009 -0.261056 -0.761256\n",
       "2           0.515420  0.442742  0.004224  0.399701"
      ]
     },
     "execution_count": 31,
     "metadata": {},
     "output_type": "execute_result"
    }
   ],
   "source": [
    "df1.groupby('cluster_id')[['internet', 'import', 'hightech', 'mobile']].mean()"
   ]
  },
  {
   "cell_type": "markdown",
   "metadata": {
    "id": "JMFZzXkWvq_F"
   },
   "source": [
    "Для первого типа характерно малое количество пользователей интернета и подписчиков на сотовую мобильную связь, небольшой экспорт высокотехнологичных продуктов (точнее небольшая сумма выручки в долларах) и импорт (в среднем). Это говорит о том, что страны из этого кластера не очень технологически развиты\n",
    "\n",
    "Для второго типа всё наоборот: большое количество пользователей интернета и подписчиков на сотовую мобильную связь, большой экспорт высокотехнологичных продуктов (точнее большая сумма выручки в долларах) и импорт (в среднем). Это говорит о том, что страны из этого кластера технологически развиты"
   ]
  },
  {
   "cell_type": "markdown",
   "metadata": {
    "id": "scA_3KDIw1Nu"
   },
   "source": [
    "### Названия кластеров\n",
    "1. Технологически слабо развитые страны\n",
    "2. Технологически развитые страны"
   ]
  },
  {
   "cell_type": "markdown",
   "metadata": {
    "id": "HAqxzdAWxIic"
   },
   "source": [
    "### Причина появления такой кластерной структуры и соответствие ожиданиям\n",
    "Тут всё было ожидаемо, потому что в целом всегда можно разбить какие-то объекты относительно каких-то средних значений на те, которые будут \"проседать\" по ним и те, которые будут выше них"
   ]
  },
  {
   "cell_type": "markdown",
   "metadata": {},
   "source": [
    "<font color='red'> получилась не самая удачная кластерная структура, как ты и написала, она просто разбивает на два по какому-то значению, если поиграться с переменными, можно поинтереснее выбить кластеры</font>"
   ]
  },
  {
   "cell_type": "markdown",
   "metadata": {
    "id": "aq0V4Brn_3lC"
   },
   "source": [
    "## Задание 2\n",
    "\n",
    "В файле Video_Games_Sales.csv содержаться данные о продажах видеоигр.\n",
    "Источник: https://www.kaggle.com/rush4ratio/video-game-sales-with-ratings\n",
    "\n",
    "В файле следующие переменные::\n",
    "    \n",
    "    - Name: The game’s name\n",
    "    - Platform: Platform of the game’s release (i.e. PC, PS4, etc.)\n",
    "    - Year_of_Release: Year of the game's release\n",
    "    - Genre: Genre of the game\n",
    "    - Publisher: Publisher of the game\n",
    "    - NA_Sales: Sales in North America (in millions)\n",
    "    - EU_Sales: Sales in Europe (in millions)\n",
    "    - JP_Sales: Sales in Japan (in millions)\n",
    "    - Other_Sales: Sales in the rest of the world (in millions)\n",
    "    - Global_Sales: Total worldwide sales.\n",
    "    - Critic_score: Aggregate score compiled by Metacritic staff\n",
    "    - Criticcount: The number of critics used in coming up with the Criticscore\n",
    "    - User_score: Score by Metacritic's subscribers\n",
    "    - Usercount: Number of users who gave the userscore\n",
    "    - Developer: Party responsible for creating the game\n",
    "    - Rating: The ESRB ratings\n",
    "\n",
    "\n",
    "Проведите кластерный анализ на основе алгоритмов k-средних или DBSCAN с использованием не менее 4-х метрических переменных. Выполните следующие пункты:\n",
    "\n",
    "    1.Обоснуйте выбор переменных кластеризации.\n",
    "\n",
    "    2.Выберите один из двух алгоритмов кластеризации (k-средних или DBSCAN) и обоснуйте свой выбор.\n",
    "\n",
    "    3.Определите число кластеров, объясните своё решение.\n",
    "\n",
    "    4.Опишите получившиеся кластеры с помощью описательной статистики. Нужно не просто рассчитать статистики в таблицах, но детально описать полученные результаты.\n",
    "\n",
    "    5.Дайте названия кластерам и обоснуйте их.\n",
    "\n",
    "    6.Почему получилась именно такая кластерная структура? Полученные результаты соответствуют вашем изначальным предположениям или оказались неожиданными?\n"
   ]
  },
  {
   "cell_type": "markdown",
   "metadata": {
    "id": "gTcmpPvn_3lC"
   },
   "source": [
    "Обратите внимание, что все пункты задания должны сопровождаться _выполненным_ фрагментом кода!"
   ]
  },
  {
   "cell_type": "markdown",
   "metadata": {
    "id": "7tSaLMcOx_FZ"
   },
   "source": [
    "### Выбор переменных для кластеризации\n",
    "Нам бы хотелось взять какие-то переменные, можно взять продажи в разных странах и оценки критиков. Так хорошо будет сделать, поскольку сможем выявить популярные игры (которые часто покупают), средне-популярные, малопопулярные и тп\n",
    "- NA_Sales: Sales in North America (in millions)\n",
    "- EU_Sales: Sales in Europe (in millions)\n",
    "- JP_Sales: Sales in Japan (in millions)\n",
    "- Other_Sales: Sales in the rest of the world (in millions)\n",
    "- Critic_score: Aggregate score compiled by Metacritic staff"
   ]
  },
  {
   "cell_type": "markdown",
   "metadata": {
    "id": "7y6LAjXCzFsI"
   },
   "source": [
    "### Выбор алгоритма кластеризации\n",
    "Лучше взять алгоритм k-means (k-средних), поскольку данных тут довольно много, а он как раз является более эффективным по сравнению с DBSCAN"
   ]
  },
  {
   "cell_type": "markdown",
   "metadata": {},
   "source": [
    "<font color='red'> а где всё (((((</font>"
   ]
  },
  {
   "cell_type": "markdown",
   "metadata": {
    "id": "X9YOjFx8_3lD"
   },
   "source": [
    "# Этот файл нужно сохранить как Notebook (.ipynb) и загрузить в Smart LMS до 13:00 30 октября."
   ]
  }
 ],
 "metadata": {
  "colab": {
   "provenance": []
  },
  "kernelspec": {
   "display_name": "Python 3",
   "language": "python",
   "name": "python3"
  },
  "language_info": {
   "codemirror_mode": {
    "name": "ipython",
    "version": 3
   },
   "file_extension": ".py",
   "mimetype": "text/x-python",
   "name": "python",
   "nbconvert_exporter": "python",
   "pygments_lexer": "ipython3",
   "version": "3.12.2"
  }
 },
 "nbformat": 4,
 "nbformat_minor": 0
}
